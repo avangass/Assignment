{
 "cells": [
  {
   "cell_type": "code",
   "execution_count": 98,
   "id": "efa920d7",
   "metadata": {},
   "outputs": [],
   "source": [
    "# Import necessary packages\n",
    "import os\n",
    "import numpy as np\n",
    "import pandas as pd\n",
    "import matplotlib.pyplot as plt\n",
    "import seaborn as sns\n",
    "import requests\n",
    "import pandas as pd\n",
    "from functools import reduce"
   ]
  },
  {
   "cell_type": "code",
   "execution_count": 99,
   "id": "7be95545",
   "metadata": {},
   "outputs": [
    {
     "data": {
      "text/plain": [
       "'C:\\\\Users\\\\vangaasa'"
      ]
     },
     "execution_count": 99,
     "metadata": {},
     "output_type": "execute_result"
    }
   ],
   "source": [
    "#Viewed the directory where the working files are saved\n",
    "os.getcwd()"
   ]
  },
  {
   "cell_type": "code",
   "execution_count": 100,
   "id": "39be03e0",
   "metadata": {},
   "outputs": [
    {
     "data": {
      "text/html": [
       "<div>\n",
       "<style scoped>\n",
       "    .dataframe tbody tr th:only-of-type {\n",
       "        vertical-align: middle;\n",
       "    }\n",
       "\n",
       "    .dataframe tbody tr th {\n",
       "        vertical-align: top;\n",
       "    }\n",
       "\n",
       "    .dataframe thead th {\n",
       "        text-align: right;\n",
       "    }\n",
       "</style>\n",
       "<table border=\"1\" class=\"dataframe\">\n",
       "  <thead>\n",
       "    <tr style=\"text-align: right;\">\n",
       "      <th></th>\n",
       "      <th>Date</th>\n",
       "      <th>Open</th>\n",
       "      <th>High</th>\n",
       "      <th>Low</th>\n",
       "      <th>Close</th>\n",
       "      <th>Adj Close</th>\n",
       "      <th>Volume</th>\n",
       "    </tr>\n",
       "  </thead>\n",
       "  <tbody>\n",
       "    <tr>\n",
       "      <th>0</th>\n",
       "      <td>17/09/2021</td>\n",
       "      <td>308.5</td>\n",
       "      <td>309.549988</td>\n",
       "      <td>302.75</td>\n",
       "      <td>304.649994</td>\n",
       "      <td>291.244812</td>\n",
       "      <td>98600571</td>\n",
       "    </tr>\n",
       "    <tr>\n",
       "      <th>1</th>\n",
       "      <td>20/09/2021</td>\n",
       "      <td>301</td>\n",
       "      <td>306.149994</td>\n",
       "      <td>299.700012</td>\n",
       "      <td>303.700012</td>\n",
       "      <td>290.33667</td>\n",
       "      <td>50856932</td>\n",
       "    </tr>\n",
       "    <tr>\n",
       "      <th>2</th>\n",
       "      <td>21/09/2021</td>\n",
       "      <td>305.299988</td>\n",
       "      <td>313.299988</td>\n",
       "      <td>305.25</td>\n",
       "      <td>308.799988</td>\n",
       "      <td>295.212219</td>\n",
       "      <td>50626001</td>\n",
       "    </tr>\n",
       "    <tr>\n",
       "      <th>3</th>\n",
       "      <td>22/09/2021</td>\n",
       "      <td>313.25</td>\n",
       "      <td>319.700012</td>\n",
       "      <td>312.459015</td>\n",
       "      <td>316.75</td>\n",
       "      <td>302.812408</td>\n",
       "      <td>51097066</td>\n",
       "    </tr>\n",
       "    <tr>\n",
       "      <th>4</th>\n",
       "      <td>23/09/2021</td>\n",
       "      <td>318.399994</td>\n",
       "      <td>319.299988</td>\n",
       "      <td>312.350006</td>\n",
       "      <td>317.75</td>\n",
       "      <td>303.768402</td>\n",
       "      <td>31378887</td>\n",
       "    </tr>\n",
       "  </tbody>\n",
       "</table>\n",
       "</div>"
      ],
      "text/plain": [
       "         Date        Open        High         Low       Close   Adj Close  \\\n",
       "0  17/09/2021       308.5  309.549988      302.75  304.649994  291.244812   \n",
       "1  20/09/2021         301  306.149994  299.700012  303.700012   290.33667   \n",
       "2  21/09/2021  305.299988  313.299988      305.25  308.799988  295.212219   \n",
       "3  22/09/2021      313.25  319.700012  312.459015      316.75  302.812408   \n",
       "4  23/09/2021  318.399994  319.299988  312.350006      317.75  303.768402   \n",
       "\n",
       "     Volume  \n",
       "0  98600571  \n",
       "1  50856932  \n",
       "2  50626001  \n",
       "3  51097066  \n",
       "4  31378887  "
      ]
     },
     "execution_count": 100,
     "metadata": {},
     "output_type": "execute_result"
    }
   ],
   "source": [
    "#Created a BP share price DF from a Flat File \n",
    "ShareBP = pd.read_csv('Bp.csv',sep=',', error_bad_lines=False, index_col=False, dtype='unicode')\n",
    "#Viewed he first few lines of the Flat File after importation\n",
    "ShareBP.head()"
   ]
  },
  {
   "cell_type": "code",
   "execution_count": 101,
   "id": "9d130680",
   "metadata": {},
   "outputs": [
    {
     "data": {
      "text/html": [
       "<div>\n",
       "<style scoped>\n",
       "    .dataframe tbody tr th:only-of-type {\n",
       "        vertical-align: middle;\n",
       "    }\n",
       "\n",
       "    .dataframe tbody tr th {\n",
       "        vertical-align: top;\n",
       "    }\n",
       "\n",
       "    .dataframe thead th {\n",
       "        text-align: right;\n",
       "    }\n",
       "</style>\n",
       "<table border=\"1\" class=\"dataframe\">\n",
       "  <thead>\n",
       "    <tr style=\"text-align: right;\">\n",
       "      <th></th>\n",
       "      <th>Date</th>\n",
       "      <th>Open</th>\n",
       "      <th>High</th>\n",
       "      <th>Low</th>\n",
       "      <th>Close-BP</th>\n",
       "      <th>Adj Close</th>\n",
       "      <th>Volume</th>\n",
       "    </tr>\n",
       "  </thead>\n",
       "  <tbody>\n",
       "    <tr>\n",
       "      <th>0</th>\n",
       "      <td>17/09/2021</td>\n",
       "      <td>308.5</td>\n",
       "      <td>309.549988</td>\n",
       "      <td>302.75</td>\n",
       "      <td>304.649994</td>\n",
       "      <td>291.244812</td>\n",
       "      <td>98600571</td>\n",
       "    </tr>\n",
       "    <tr>\n",
       "      <th>1</th>\n",
       "      <td>20/09/2021</td>\n",
       "      <td>301</td>\n",
       "      <td>306.149994</td>\n",
       "      <td>299.700012</td>\n",
       "      <td>303.700012</td>\n",
       "      <td>290.33667</td>\n",
       "      <td>50856932</td>\n",
       "    </tr>\n",
       "    <tr>\n",
       "      <th>2</th>\n",
       "      <td>21/09/2021</td>\n",
       "      <td>305.299988</td>\n",
       "      <td>313.299988</td>\n",
       "      <td>305.25</td>\n",
       "      <td>308.799988</td>\n",
       "      <td>295.212219</td>\n",
       "      <td>50626001</td>\n",
       "    </tr>\n",
       "    <tr>\n",
       "      <th>3</th>\n",
       "      <td>22/09/2021</td>\n",
       "      <td>313.25</td>\n",
       "      <td>319.700012</td>\n",
       "      <td>312.459015</td>\n",
       "      <td>316.75</td>\n",
       "      <td>302.812408</td>\n",
       "      <td>51097066</td>\n",
       "    </tr>\n",
       "    <tr>\n",
       "      <th>4</th>\n",
       "      <td>23/09/2021</td>\n",
       "      <td>318.399994</td>\n",
       "      <td>319.299988</td>\n",
       "      <td>312.350006</td>\n",
       "      <td>317.75</td>\n",
       "      <td>303.768402</td>\n",
       "      <td>31378887</td>\n",
       "    </tr>\n",
       "  </tbody>\n",
       "</table>\n",
       "</div>"
      ],
      "text/plain": [
       "         Date        Open        High         Low    Close-BP   Adj Close  \\\n",
       "0  17/09/2021       308.5  309.549988      302.75  304.649994  291.244812   \n",
       "1  20/09/2021         301  306.149994  299.700012  303.700012   290.33667   \n",
       "2  21/09/2021  305.299988  313.299988      305.25  308.799988  295.212219   \n",
       "3  22/09/2021      313.25  319.700012  312.459015      316.75  302.812408   \n",
       "4  23/09/2021  318.399994  319.299988  312.350006      317.75  303.768402   \n",
       "\n",
       "     Volume  \n",
       "0  98600571  \n",
       "1  50856932  \n",
       "2  50626001  \n",
       "3  51097066  \n",
       "4  31378887  "
      ]
     },
     "execution_count": 101,
     "metadata": {},
     "output_type": "execute_result"
    }
   ],
   "source": [
    "#Rename BP closing price column to Close-BP to ease futher analysis\n",
    "ShareBP.rename(columns={'Close': 'Close-BP', }, inplace=True)\n",
    "#Viwed the DF after renaming.\n",
    "ShareBP.head()"
   ]
  },
  {
   "cell_type": "code",
   "execution_count": 102,
   "id": "1fc96b99",
   "metadata": {},
   "outputs": [
    {
     "data": {
      "text/plain": [
       "Date         object\n",
       "Open         object\n",
       "High         object\n",
       "Low          object\n",
       "Close-BP     object\n",
       "Adj Close    object\n",
       "Volume       object\n",
       "dtype: object"
      ]
     },
     "execution_count": 102,
     "metadata": {},
     "output_type": "execute_result"
    }
   ],
   "source": [
    "#REview datatypes after renaming\n",
    "ShareBP.dtypes"
   ]
  },
  {
   "cell_type": "code",
   "execution_count": 103,
   "id": "1b84cf67",
   "metadata": {},
   "outputs": [
    {
     "data": {
      "text/html": [
       "<div>\n",
       "<style scoped>\n",
       "    .dataframe tbody tr th:only-of-type {\n",
       "        vertical-align: middle;\n",
       "    }\n",
       "\n",
       "    .dataframe tbody tr th {\n",
       "        vertical-align: top;\n",
       "    }\n",
       "\n",
       "    .dataframe thead th {\n",
       "        text-align: right;\n",
       "    }\n",
       "</style>\n",
       "<table border=\"1\" class=\"dataframe\">\n",
       "  <thead>\n",
       "    <tr style=\"text-align: right;\">\n",
       "      <th></th>\n",
       "      <th>Date</th>\n",
       "      <th>Open</th>\n",
       "      <th>High</th>\n",
       "      <th>Low</th>\n",
       "      <th>Close-BP</th>\n",
       "      <th>Adj Close</th>\n",
       "      <th>Volume</th>\n",
       "    </tr>\n",
       "  </thead>\n",
       "  <tbody>\n",
       "    <tr>\n",
       "      <th>0</th>\n",
       "      <td>2021-09-17</td>\n",
       "      <td>308.5</td>\n",
       "      <td>309.549988</td>\n",
       "      <td>302.75</td>\n",
       "      <td>304.649994</td>\n",
       "      <td>291.244812</td>\n",
       "      <td>98600571</td>\n",
       "    </tr>\n",
       "    <tr>\n",
       "      <th>1</th>\n",
       "      <td>2021-09-20</td>\n",
       "      <td>301</td>\n",
       "      <td>306.149994</td>\n",
       "      <td>299.700012</td>\n",
       "      <td>303.700012</td>\n",
       "      <td>290.33667</td>\n",
       "      <td>50856932</td>\n",
       "    </tr>\n",
       "    <tr>\n",
       "      <th>2</th>\n",
       "      <td>2021-09-21</td>\n",
       "      <td>305.299988</td>\n",
       "      <td>313.299988</td>\n",
       "      <td>305.25</td>\n",
       "      <td>308.799988</td>\n",
       "      <td>295.212219</td>\n",
       "      <td>50626001</td>\n",
       "    </tr>\n",
       "    <tr>\n",
       "      <th>3</th>\n",
       "      <td>2021-09-22</td>\n",
       "      <td>313.25</td>\n",
       "      <td>319.700012</td>\n",
       "      <td>312.459015</td>\n",
       "      <td>316.75</td>\n",
       "      <td>302.812408</td>\n",
       "      <td>51097066</td>\n",
       "    </tr>\n",
       "    <tr>\n",
       "      <th>4</th>\n",
       "      <td>2021-09-23</td>\n",
       "      <td>318.399994</td>\n",
       "      <td>319.299988</td>\n",
       "      <td>312.350006</td>\n",
       "      <td>317.75</td>\n",
       "      <td>303.768402</td>\n",
       "      <td>31378887</td>\n",
       "    </tr>\n",
       "    <tr>\n",
       "      <th>...</th>\n",
       "      <td>...</td>\n",
       "      <td>...</td>\n",
       "      <td>...</td>\n",
       "      <td>...</td>\n",
       "      <td>...</td>\n",
       "      <td>...</td>\n",
       "      <td>...</td>\n",
       "    </tr>\n",
       "    <tr>\n",
       "      <th>247</th>\n",
       "      <td>2022-12-09</td>\n",
       "      <td>458.75</td>\n",
       "      <td>461.850006</td>\n",
       "      <td>454.75</td>\n",
       "      <td>457.850006</td>\n",
       "      <td>457.850006</td>\n",
       "      <td>38435954</td>\n",
       "    </tr>\n",
       "    <tr>\n",
       "      <th>248</th>\n",
       "      <td>2022-09-13</td>\n",
       "      <td>460.850006</td>\n",
       "      <td>466</td>\n",
       "      <td>456.350006</td>\n",
       "      <td>461.549988</td>\n",
       "      <td>461.549988</td>\n",
       "      <td>46399900</td>\n",
       "    </tr>\n",
       "    <tr>\n",
       "      <th>249</th>\n",
       "      <td>2022-09-14</td>\n",
       "      <td>457.450012</td>\n",
       "      <td>465.950012</td>\n",
       "      <td>454.200012</td>\n",
       "      <td>462.299988</td>\n",
       "      <td>462.299988</td>\n",
       "      <td>52690774</td>\n",
       "    </tr>\n",
       "    <tr>\n",
       "      <th>250</th>\n",
       "      <td>2022-09-15</td>\n",
       "      <td>462.5</td>\n",
       "      <td>466.799988</td>\n",
       "      <td>453.950012</td>\n",
       "      <td>456.549988</td>\n",
       "      <td>456.549988</td>\n",
       "      <td>44965722</td>\n",
       "    </tr>\n",
       "    <tr>\n",
       "      <th>251</th>\n",
       "      <td>2022-09-16</td>\n",
       "      <td>454.299988</td>\n",
       "      <td>460.542999</td>\n",
       "      <td>450.950012</td>\n",
       "      <td>452.049988</td>\n",
       "      <td>452.049988</td>\n",
       "      <td>192087202</td>\n",
       "    </tr>\n",
       "  </tbody>\n",
       "</table>\n",
       "<p>252 rows × 7 columns</p>\n",
       "</div>"
      ],
      "text/plain": [
       "          Date        Open        High         Low    Close-BP   Adj Close  \\\n",
       "0   2021-09-17       308.5  309.549988      302.75  304.649994  291.244812   \n",
       "1   2021-09-20         301  306.149994  299.700012  303.700012   290.33667   \n",
       "2   2021-09-21  305.299988  313.299988      305.25  308.799988  295.212219   \n",
       "3   2021-09-22      313.25  319.700012  312.459015      316.75  302.812408   \n",
       "4   2021-09-23  318.399994  319.299988  312.350006      317.75  303.768402   \n",
       "..         ...         ...         ...         ...         ...         ...   \n",
       "247 2022-12-09      458.75  461.850006      454.75  457.850006  457.850006   \n",
       "248 2022-09-13  460.850006         466  456.350006  461.549988  461.549988   \n",
       "249 2022-09-14  457.450012  465.950012  454.200012  462.299988  462.299988   \n",
       "250 2022-09-15       462.5  466.799988  453.950012  456.549988  456.549988   \n",
       "251 2022-09-16  454.299988  460.542999  450.950012  452.049988  452.049988   \n",
       "\n",
       "        Volume  \n",
       "0     98600571  \n",
       "1     50856932  \n",
       "2     50626001  \n",
       "3     51097066  \n",
       "4     31378887  \n",
       "..         ...  \n",
       "247   38435954  \n",
       "248   46399900  \n",
       "249   52690774  \n",
       "250   44965722  \n",
       "251  192087202  \n",
       "\n",
       "[252 rows x 7 columns]"
      ]
     },
     "execution_count": 103,
     "metadata": {},
     "output_type": "execute_result"
    }
   ],
   "source": [
    "#Setting the index (Date) as a Datetime datatype in the BP Workbook\n",
    "ShareBP['Date'] = pd.to_datetime(ShareBP['Date'])\n",
    "ShareBP"
   ]
  },
  {
   "cell_type": "code",
   "execution_count": 104,
   "id": "d9aac458",
   "metadata": {},
   "outputs": [
    {
     "data": {
      "text/plain": [
       "Date         0\n",
       "Open         5\n",
       "High         5\n",
       "Low          5\n",
       "Close-BP     5\n",
       "Adj Close    5\n",
       "Volume       5\n",
       "dtype: int64"
      ]
     },
     "execution_count": 104,
     "metadata": {},
     "output_type": "execute_result"
    }
   ],
   "source": [
    "#Reviwed  if there are missing values/null Values in the DF\n",
    "ShareBP.isnull().sum()"
   ]
  },
  {
   "cell_type": "code",
   "execution_count": 105,
   "id": "87565b59",
   "metadata": {},
   "outputs": [
    {
     "data": {
      "text/html": [
       "<div>\n",
       "<style scoped>\n",
       "    .dataframe tbody tr th:only-of-type {\n",
       "        vertical-align: middle;\n",
       "    }\n",
       "\n",
       "    .dataframe tbody tr th {\n",
       "        vertical-align: top;\n",
       "    }\n",
       "\n",
       "    .dataframe thead th {\n",
       "        text-align: right;\n",
       "    }\n",
       "</style>\n",
       "<table border=\"1\" class=\"dataframe\">\n",
       "  <thead>\n",
       "    <tr style=\"text-align: right;\">\n",
       "      <th></th>\n",
       "      <th>Date</th>\n",
       "      <th>Open</th>\n",
       "      <th>High</th>\n",
       "      <th>Low</th>\n",
       "      <th>Close-BP</th>\n",
       "      <th>Adj Close</th>\n",
       "      <th>Volume</th>\n",
       "    </tr>\n",
       "  </thead>\n",
       "  <tbody>\n",
       "    <tr>\n",
       "      <th>0</th>\n",
       "      <td>2021-09-17</td>\n",
       "      <td>308.5</td>\n",
       "      <td>309.549988</td>\n",
       "      <td>302.75</td>\n",
       "      <td>304.649994</td>\n",
       "      <td>291.244812</td>\n",
       "      <td>98600571</td>\n",
       "    </tr>\n",
       "    <tr>\n",
       "      <th>1</th>\n",
       "      <td>2021-09-20</td>\n",
       "      <td>301</td>\n",
       "      <td>306.149994</td>\n",
       "      <td>299.700012</td>\n",
       "      <td>303.700012</td>\n",
       "      <td>290.33667</td>\n",
       "      <td>50856932</td>\n",
       "    </tr>\n",
       "    <tr>\n",
       "      <th>2</th>\n",
       "      <td>2021-09-21</td>\n",
       "      <td>305.299988</td>\n",
       "      <td>313.299988</td>\n",
       "      <td>305.25</td>\n",
       "      <td>308.799988</td>\n",
       "      <td>295.212219</td>\n",
       "      <td>50626001</td>\n",
       "    </tr>\n",
       "    <tr>\n",
       "      <th>3</th>\n",
       "      <td>2021-09-22</td>\n",
       "      <td>313.25</td>\n",
       "      <td>319.700012</td>\n",
       "      <td>312.459015</td>\n",
       "      <td>316.75</td>\n",
       "      <td>302.812408</td>\n",
       "      <td>51097066</td>\n",
       "    </tr>\n",
       "    <tr>\n",
       "      <th>4</th>\n",
       "      <td>2021-09-23</td>\n",
       "      <td>318.399994</td>\n",
       "      <td>319.299988</td>\n",
       "      <td>312.350006</td>\n",
       "      <td>317.75</td>\n",
       "      <td>303.768402</td>\n",
       "      <td>31378887</td>\n",
       "    </tr>\n",
       "    <tr>\n",
       "      <th>...</th>\n",
       "      <td>...</td>\n",
       "      <td>...</td>\n",
       "      <td>...</td>\n",
       "      <td>...</td>\n",
       "      <td>...</td>\n",
       "      <td>...</td>\n",
       "      <td>...</td>\n",
       "    </tr>\n",
       "    <tr>\n",
       "      <th>247</th>\n",
       "      <td>2022-12-09</td>\n",
       "      <td>458.75</td>\n",
       "      <td>461.850006</td>\n",
       "      <td>454.75</td>\n",
       "      <td>457.850006</td>\n",
       "      <td>457.850006</td>\n",
       "      <td>38435954</td>\n",
       "    </tr>\n",
       "    <tr>\n",
       "      <th>248</th>\n",
       "      <td>2022-09-13</td>\n",
       "      <td>460.850006</td>\n",
       "      <td>466</td>\n",
       "      <td>456.350006</td>\n",
       "      <td>461.549988</td>\n",
       "      <td>461.549988</td>\n",
       "      <td>46399900</td>\n",
       "    </tr>\n",
       "    <tr>\n",
       "      <th>249</th>\n",
       "      <td>2022-09-14</td>\n",
       "      <td>457.450012</td>\n",
       "      <td>465.950012</td>\n",
       "      <td>454.200012</td>\n",
       "      <td>462.299988</td>\n",
       "      <td>462.299988</td>\n",
       "      <td>52690774</td>\n",
       "    </tr>\n",
       "    <tr>\n",
       "      <th>250</th>\n",
       "      <td>2022-09-15</td>\n",
       "      <td>462.5</td>\n",
       "      <td>466.799988</td>\n",
       "      <td>453.950012</td>\n",
       "      <td>456.549988</td>\n",
       "      <td>456.549988</td>\n",
       "      <td>44965722</td>\n",
       "    </tr>\n",
       "    <tr>\n",
       "      <th>251</th>\n",
       "      <td>2022-09-16</td>\n",
       "      <td>454.299988</td>\n",
       "      <td>460.542999</td>\n",
       "      <td>450.950012</td>\n",
       "      <td>452.049988</td>\n",
       "      <td>452.049988</td>\n",
       "      <td>192087202</td>\n",
       "    </tr>\n",
       "  </tbody>\n",
       "</table>\n",
       "<p>252 rows × 7 columns</p>\n",
       "</div>"
      ],
      "text/plain": [
       "          Date        Open        High         Low    Close-BP   Adj Close  \\\n",
       "0   2021-09-17       308.5  309.549988      302.75  304.649994  291.244812   \n",
       "1   2021-09-20         301  306.149994  299.700012  303.700012   290.33667   \n",
       "2   2021-09-21  305.299988  313.299988      305.25  308.799988  295.212219   \n",
       "3   2021-09-22      313.25  319.700012  312.459015      316.75  302.812408   \n",
       "4   2021-09-23  318.399994  319.299988  312.350006      317.75  303.768402   \n",
       "..         ...         ...         ...         ...         ...         ...   \n",
       "247 2022-12-09      458.75  461.850006      454.75  457.850006  457.850006   \n",
       "248 2022-09-13  460.850006         466  456.350006  461.549988  461.549988   \n",
       "249 2022-09-14  457.450012  465.950012  454.200012  462.299988  462.299988   \n",
       "250 2022-09-15       462.5  466.799988  453.950012  456.549988  456.549988   \n",
       "251 2022-09-16  454.299988  460.542999  450.950012  452.049988  452.049988   \n",
       "\n",
       "        Volume  \n",
       "0     98600571  \n",
       "1     50856932  \n",
       "2     50626001  \n",
       "3     51097066  \n",
       "4     31378887  \n",
       "..         ...  \n",
       "247   38435954  \n",
       "248   46399900  \n",
       "249   52690774  \n",
       "250   44965722  \n",
       "251  192087202  \n",
       "\n",
       "[252 rows x 7 columns]"
      ]
     },
     "execution_count": 105,
     "metadata": {},
     "output_type": "execute_result"
    }
   ],
   "source": [
    "#Dropping Duplicates in the DF \n",
    "ShareBP.drop_duplicates(keep=False,inplace=True)\n",
    "ShareBP"
   ]
  },
  {
   "cell_type": "code",
   "execution_count": 106,
   "id": "84da21c3",
   "metadata": {},
   "outputs": [],
   "source": [
    "#Fill all missing /Null values in , with the next days value\n",
    "ShareBP.fillna(method='ffill', inplace=True)"
   ]
  },
  {
   "cell_type": "code",
   "execution_count": 107,
   "id": "b24e9fd5",
   "metadata": {},
   "outputs": [
    {
     "data": {
      "text/plain": [
       "Date         0\n",
       "Open         0\n",
       "High         0\n",
       "Low          0\n",
       "Close-BP     0\n",
       "Adj Close    0\n",
       "Volume       0\n",
       "dtype: int64"
      ]
     },
     "execution_count": 107,
     "metadata": {},
     "output_type": "execute_result"
    }
   ],
   "source": [
    "ShareBP.isnull().sum()"
   ]
  },
  {
   "cell_type": "code",
   "execution_count": 108,
   "id": "946e2b3c",
   "metadata": {},
   "outputs": [
    {
     "data": {
      "text/html": [
       "<div>\n",
       "<style scoped>\n",
       "    .dataframe tbody tr th:only-of-type {\n",
       "        vertical-align: middle;\n",
       "    }\n",
       "\n",
       "    .dataframe tbody tr th {\n",
       "        vertical-align: top;\n",
       "    }\n",
       "\n",
       "    .dataframe thead th {\n",
       "        text-align: right;\n",
       "    }\n",
       "</style>\n",
       "<table border=\"1\" class=\"dataframe\">\n",
       "  <thead>\n",
       "    <tr style=\"text-align: right;\">\n",
       "      <th></th>\n",
       "      <th>Date</th>\n",
       "      <th>Open</th>\n",
       "      <th>High</th>\n",
       "      <th>Low</th>\n",
       "      <th>Close-BP</th>\n",
       "      <th>Adj Close</th>\n",
       "      <th>Volume</th>\n",
       "    </tr>\n",
       "  </thead>\n",
       "  <tbody>\n",
       "    <tr>\n",
       "      <th>0</th>\n",
       "      <td>2021-09-17</td>\n",
       "      <td>308.5</td>\n",
       "      <td>309.549988</td>\n",
       "      <td>302.75</td>\n",
       "      <td>304.649994</td>\n",
       "      <td>291.244812</td>\n",
       "      <td>98600571</td>\n",
       "    </tr>\n",
       "    <tr>\n",
       "      <th>1</th>\n",
       "      <td>2021-09-20</td>\n",
       "      <td>301</td>\n",
       "      <td>306.149994</td>\n",
       "      <td>299.700012</td>\n",
       "      <td>303.700012</td>\n",
       "      <td>290.33667</td>\n",
       "      <td>50856932</td>\n",
       "    </tr>\n",
       "    <tr>\n",
       "      <th>2</th>\n",
       "      <td>2021-09-21</td>\n",
       "      <td>305.299988</td>\n",
       "      <td>313.299988</td>\n",
       "      <td>305.25</td>\n",
       "      <td>308.799988</td>\n",
       "      <td>295.212219</td>\n",
       "      <td>50626001</td>\n",
       "    </tr>\n",
       "    <tr>\n",
       "      <th>3</th>\n",
       "      <td>2021-09-22</td>\n",
       "      <td>313.25</td>\n",
       "      <td>319.700012</td>\n",
       "      <td>312.459015</td>\n",
       "      <td>316.75</td>\n",
       "      <td>302.812408</td>\n",
       "      <td>51097066</td>\n",
       "    </tr>\n",
       "    <tr>\n",
       "      <th>4</th>\n",
       "      <td>2021-09-23</td>\n",
       "      <td>318.399994</td>\n",
       "      <td>319.299988</td>\n",
       "      <td>312.350006</td>\n",
       "      <td>317.75</td>\n",
       "      <td>303.768402</td>\n",
       "      <td>31378887</td>\n",
       "    </tr>\n",
       "  </tbody>\n",
       "</table>\n",
       "</div>"
      ],
      "text/plain": [
       "        Date        Open        High         Low    Close-BP   Adj Close  \\\n",
       "0 2021-09-17       308.5  309.549988      302.75  304.649994  291.244812   \n",
       "1 2021-09-20         301  306.149994  299.700012  303.700012   290.33667   \n",
       "2 2021-09-21  305.299988  313.299988      305.25  308.799988  295.212219   \n",
       "3 2021-09-22      313.25  319.700012  312.459015      316.75  302.812408   \n",
       "4 2021-09-23  318.399994  319.299988  312.350006      317.75  303.768402   \n",
       "\n",
       "     Volume  \n",
       "0  98600571  \n",
       "1  50856932  \n",
       "2  50626001  \n",
       "3  51097066  \n",
       "4  31378887  "
      ]
     },
     "execution_count": 108,
     "metadata": {},
     "output_type": "execute_result"
    }
   ],
   "source": [
    "ShareBP.head()"
   ]
  },
  {
   "cell_type": "code",
   "execution_count": 109,
   "id": "8a0b9eae",
   "metadata": {},
   "outputs": [
    {
     "data": {
      "text/html": [
       "<div>\n",
       "<style scoped>\n",
       "    .dataframe tbody tr th:only-of-type {\n",
       "        vertical-align: middle;\n",
       "    }\n",
       "\n",
       "    .dataframe tbody tr th {\n",
       "        vertical-align: top;\n",
       "    }\n",
       "\n",
       "    .dataframe thead th {\n",
       "        text-align: right;\n",
       "    }\n",
       "</style>\n",
       "<table border=\"1\" class=\"dataframe\">\n",
       "  <thead>\n",
       "    <tr style=\"text-align: right;\">\n",
       "      <th></th>\n",
       "      <th>Date</th>\n",
       "      <th>Open</th>\n",
       "      <th>High</th>\n",
       "      <th>Low</th>\n",
       "      <th>Close-Shell</th>\n",
       "      <th>Adj Close</th>\n",
       "      <th>Volume</th>\n",
       "    </tr>\n",
       "  </thead>\n",
       "  <tbody>\n",
       "    <tr>\n",
       "      <th>0</th>\n",
       "      <td>2021-09-17</td>\n",
       "      <td>1476.400024</td>\n",
       "      <td>1479.400024</td>\n",
       "      <td>1446.599976</td>\n",
       "      <td>1456</td>\n",
       "      <td>1401.227173</td>\n",
       "      <td>18491622</td>\n",
       "    </tr>\n",
       "    <tr>\n",
       "      <th>1</th>\n",
       "      <td>2021-09-20</td>\n",
       "      <td>1433.800049</td>\n",
       "      <td>1445</td>\n",
       "      <td>1422.400024</td>\n",
       "      <td>1436.800049</td>\n",
       "      <td>1382.74939</td>\n",
       "      <td>8109781</td>\n",
       "    </tr>\n",
       "    <tr>\n",
       "      <th>2</th>\n",
       "      <td>2021-09-21</td>\n",
       "      <td>1459.199951</td>\n",
       "      <td>1513.199951</td>\n",
       "      <td>1459.199951</td>\n",
       "      <td>1489</td>\n",
       "      <td>1432.985718</td>\n",
       "      <td>14254492</td>\n",
       "    </tr>\n",
       "    <tr>\n",
       "      <th>3</th>\n",
       "      <td>2021-09-22</td>\n",
       "      <td>1501.199951</td>\n",
       "      <td>1529.400024</td>\n",
       "      <td>1501.199951</td>\n",
       "      <td>1517.800049</td>\n",
       "      <td>1460.702393</td>\n",
       "      <td>14329333</td>\n",
       "    </tr>\n",
       "    <tr>\n",
       "      <th>4</th>\n",
       "      <td>2021-09-23</td>\n",
       "      <td>1525.800049</td>\n",
       "      <td>1528.199951</td>\n",
       "      <td>1507.199951</td>\n",
       "      <td>1523.800049</td>\n",
       "      <td>1466.476685</td>\n",
       "      <td>33298702</td>\n",
       "    </tr>\n",
       "  </tbody>\n",
       "</table>\n",
       "</div>"
      ],
      "text/plain": [
       "        Date         Open         High          Low  Close-Shell    Adj Close  \\\n",
       "0 2021-09-17  1476.400024  1479.400024  1446.599976         1456  1401.227173   \n",
       "1 2021-09-20  1433.800049         1445  1422.400024  1436.800049   1382.74939   \n",
       "2 2021-09-21  1459.199951  1513.199951  1459.199951         1489  1432.985718   \n",
       "3 2021-09-22  1501.199951  1529.400024  1501.199951  1517.800049  1460.702393   \n",
       "4 2021-09-23  1525.800049  1528.199951  1507.199951  1523.800049  1466.476685   \n",
       "\n",
       "     Volume  \n",
       "0  18491622  \n",
       "1   8109781  \n",
       "2  14254492  \n",
       "3  14329333  \n",
       "4  33298702  "
      ]
     },
     "execution_count": 109,
     "metadata": {},
     "output_type": "execute_result"
    }
   ],
   "source": [
    "#Import the data for Shell-\n",
    "ShareShell = pd.read_csv('FP.csv',sep=',', error_bad_lines=False, index_col=False, dtype='unicode')\n",
    "#rename the close price column to ensure further analysis is eased.#\n",
    "ShareShell.rename(columns={'Close': 'Close-Shell', }, inplace=True)\n",
    "ShareShell.set_index('Date')\n",
    "ShareShell['Date'] = pd.to_datetime(ShareShell['Date'])\n",
    "ShareShell.head()"
   ]
  },
  {
   "cell_type": "code",
   "execution_count": 110,
   "id": "937c6466",
   "metadata": {},
   "outputs": [
    {
     "data": {
      "text/plain": [
       "Date           0\n",
       "Open           1\n",
       "High           1\n",
       "Low            1\n",
       "Close-Shell    1\n",
       "Adj Close      1\n",
       "Volume         1\n",
       "dtype: int64"
      ]
     },
     "execution_count": 110,
     "metadata": {},
     "output_type": "execute_result"
    }
   ],
   "source": [
    "ShareShell.isnull().sum()"
   ]
  },
  {
   "cell_type": "code",
   "execution_count": 111,
   "id": "cd11d3ab",
   "metadata": {},
   "outputs": [
    {
     "data": {
      "text/plain": [
       "Date           0\n",
       "Open           0\n",
       "High           0\n",
       "Low            0\n",
       "Close-Shell    0\n",
       "Adj Close      0\n",
       "Volume         0\n",
       "dtype: int64"
      ]
     },
     "execution_count": 111,
     "metadata": {},
     "output_type": "execute_result"
    }
   ],
   "source": [
    "#Fill all missing /Null values in , with the closest value next to it\n",
    "ShareShell.fillna(method='ffill', inplace=True)\n",
    "ShareShell.isnull().sum()"
   ]
  },
  {
   "cell_type": "code",
   "execution_count": 112,
   "id": "e57585fe",
   "metadata": {},
   "outputs": [
    {
     "data": {
      "text/html": [
       "<div>\n",
       "<style scoped>\n",
       "    .dataframe tbody tr th:only-of-type {\n",
       "        vertical-align: middle;\n",
       "    }\n",
       "\n",
       "    .dataframe tbody tr th {\n",
       "        vertical-align: top;\n",
       "    }\n",
       "\n",
       "    .dataframe thead th {\n",
       "        text-align: right;\n",
       "    }\n",
       "</style>\n",
       "<table border=\"1\" class=\"dataframe\">\n",
       "  <thead>\n",
       "    <tr style=\"text-align: right;\">\n",
       "      <th></th>\n",
       "      <th>Date</th>\n",
       "      <th>Open</th>\n",
       "      <th>High</th>\n",
       "      <th>Low</th>\n",
       "      <th>Close-Shell</th>\n",
       "      <th>Adj Close</th>\n",
       "      <th>Volume</th>\n",
       "    </tr>\n",
       "  </thead>\n",
       "  <tbody>\n",
       "    <tr>\n",
       "      <th>0</th>\n",
       "      <td>2021-09-17</td>\n",
       "      <td>1476.400024</td>\n",
       "      <td>1479.400024</td>\n",
       "      <td>1446.599976</td>\n",
       "      <td>1456.000000</td>\n",
       "      <td>1401.227173</td>\n",
       "      <td>18491622</td>\n",
       "    </tr>\n",
       "    <tr>\n",
       "      <th>1</th>\n",
       "      <td>2021-09-20</td>\n",
       "      <td>1433.800049</td>\n",
       "      <td>1445</td>\n",
       "      <td>1422.400024</td>\n",
       "      <td>1436.800049</td>\n",
       "      <td>1382.74939</td>\n",
       "      <td>8109781</td>\n",
       "    </tr>\n",
       "    <tr>\n",
       "      <th>2</th>\n",
       "      <td>2021-09-21</td>\n",
       "      <td>1459.199951</td>\n",
       "      <td>1513.199951</td>\n",
       "      <td>1459.199951</td>\n",
       "      <td>1489.000000</td>\n",
       "      <td>1432.985718</td>\n",
       "      <td>14254492</td>\n",
       "    </tr>\n",
       "    <tr>\n",
       "      <th>3</th>\n",
       "      <td>2021-09-22</td>\n",
       "      <td>1501.199951</td>\n",
       "      <td>1529.400024</td>\n",
       "      <td>1501.199951</td>\n",
       "      <td>1517.800049</td>\n",
       "      <td>1460.702393</td>\n",
       "      <td>14329333</td>\n",
       "    </tr>\n",
       "    <tr>\n",
       "      <th>4</th>\n",
       "      <td>2021-09-23</td>\n",
       "      <td>1525.800049</td>\n",
       "      <td>1528.199951</td>\n",
       "      <td>1507.199951</td>\n",
       "      <td>1523.800049</td>\n",
       "      <td>1466.476685</td>\n",
       "      <td>33298702</td>\n",
       "    </tr>\n",
       "  </tbody>\n",
       "</table>\n",
       "</div>"
      ],
      "text/plain": [
       "        Date         Open         High          Low  Close-Shell    Adj Close  \\\n",
       "0 2021-09-17  1476.400024  1479.400024  1446.599976  1456.000000  1401.227173   \n",
       "1 2021-09-20  1433.800049         1445  1422.400024  1436.800049   1382.74939   \n",
       "2 2021-09-21  1459.199951  1513.199951  1459.199951  1489.000000  1432.985718   \n",
       "3 2021-09-22  1501.199951  1529.400024  1501.199951  1517.800049  1460.702393   \n",
       "4 2021-09-23  1525.800049  1528.199951  1507.199951  1523.800049  1466.476685   \n",
       "\n",
       "     Volume  \n",
       "0  18491622  \n",
       "1   8109781  \n",
       "2  14254492  \n",
       "3  14329333  \n",
       "4  33298702  "
      ]
     },
     "execution_count": 112,
     "metadata": {},
     "output_type": "execute_result"
    }
   ],
   "source": [
    "ShareShell.rename(columns={'Close': 'Close-Shell', }, inplace=True)\n",
    "ShareShell['Close-Shell'] = ShareShell['Close-Shell'].astype('float')\n",
    "ShareShell['Close-Shell'].fillna(method='ffill', inplace=True)\n",
    "ShareShell.head()"
   ]
  },
  {
   "cell_type": "code",
   "execution_count": 113,
   "id": "85eea4ca",
   "metadata": {},
   "outputs": [
    {
     "data": {
      "text/plain": [
       "Date           0\n",
       "Open           0\n",
       "High           0\n",
       "Low            0\n",
       "Close-Shell    0\n",
       "Adj Close      0\n",
       "Volume         0\n",
       "dtype: int64"
      ]
     },
     "execution_count": 113,
     "metadata": {},
     "output_type": "execute_result"
    }
   ],
   "source": [
    "ShareShell.isnull().sum()"
   ]
  },
  {
   "cell_type": "code",
   "execution_count": 114,
   "id": "6fef0be4",
   "metadata": {},
   "outputs": [
    {
     "data": {
      "text/plain": [
       "Date           datetime64[ns]\n",
       "Open                   object\n",
       "High                   object\n",
       "Low                    object\n",
       "Close-Shell           float64\n",
       "Adj Close              object\n",
       "Volume                 object\n",
       "dtype: object"
      ]
     },
     "execution_count": 114,
     "metadata": {},
     "output_type": "execute_result"
    }
   ],
   "source": [
    "ShareShell.dtypes"
   ]
  },
  {
   "cell_type": "code",
   "execution_count": 115,
   "id": "2064d083",
   "metadata": {},
   "outputs": [
    {
     "data": {
      "text/html": [
       "<div>\n",
       "<style scoped>\n",
       "    .dataframe tbody tr th:only-of-type {\n",
       "        vertical-align: middle;\n",
       "    }\n",
       "\n",
       "    .dataframe tbody tr th {\n",
       "        vertical-align: top;\n",
       "    }\n",
       "\n",
       "    .dataframe thead th {\n",
       "        text-align: right;\n",
       "    }\n",
       "</style>\n",
       "<table border=\"1\" class=\"dataframe\">\n",
       "  <thead>\n",
       "    <tr style=\"text-align: right;\">\n",
       "      <th></th>\n",
       "      <th>Date</th>\n",
       "      <th>Open</th>\n",
       "      <th>High</th>\n",
       "      <th>Low</th>\n",
       "      <th>Close-Shell</th>\n",
       "      <th>Adj Close</th>\n",
       "      <th>Volume</th>\n",
       "    </tr>\n",
       "  </thead>\n",
       "  <tbody>\n",
       "    <tr>\n",
       "      <th>0</th>\n",
       "      <td>2021-09-17</td>\n",
       "      <td>1476.400024</td>\n",
       "      <td>1479.400024</td>\n",
       "      <td>1446.599976</td>\n",
       "      <td>1456.000000</td>\n",
       "      <td>1401.227173</td>\n",
       "      <td>18491622</td>\n",
       "    </tr>\n",
       "    <tr>\n",
       "      <th>1</th>\n",
       "      <td>2021-09-20</td>\n",
       "      <td>1433.800049</td>\n",
       "      <td>1445</td>\n",
       "      <td>1422.400024</td>\n",
       "      <td>1436.800049</td>\n",
       "      <td>1382.74939</td>\n",
       "      <td>8109781</td>\n",
       "    </tr>\n",
       "    <tr>\n",
       "      <th>2</th>\n",
       "      <td>2021-09-21</td>\n",
       "      <td>1459.199951</td>\n",
       "      <td>1513.199951</td>\n",
       "      <td>1459.199951</td>\n",
       "      <td>1489.000000</td>\n",
       "      <td>1432.985718</td>\n",
       "      <td>14254492</td>\n",
       "    </tr>\n",
       "    <tr>\n",
       "      <th>3</th>\n",
       "      <td>2021-09-22</td>\n",
       "      <td>1501.199951</td>\n",
       "      <td>1529.400024</td>\n",
       "      <td>1501.199951</td>\n",
       "      <td>1517.800049</td>\n",
       "      <td>1460.702393</td>\n",
       "      <td>14329333</td>\n",
       "    </tr>\n",
       "    <tr>\n",
       "      <th>4</th>\n",
       "      <td>2021-09-23</td>\n",
       "      <td>1525.800049</td>\n",
       "      <td>1528.199951</td>\n",
       "      <td>1507.199951</td>\n",
       "      <td>1523.800049</td>\n",
       "      <td>1466.476685</td>\n",
       "      <td>33298702</td>\n",
       "    </tr>\n",
       "    <tr>\n",
       "      <th>...</th>\n",
       "      <td>...</td>\n",
       "      <td>...</td>\n",
       "      <td>...</td>\n",
       "      <td>...</td>\n",
       "      <td>...</td>\n",
       "      <td>...</td>\n",
       "      <td>...</td>\n",
       "    </tr>\n",
       "    <tr>\n",
       "      <th>247</th>\n",
       "      <td>2022-12-09</td>\n",
       "      <td>2329.5</td>\n",
       "      <td>2340.125977</td>\n",
       "      <td>2305</td>\n",
       "      <td>2321.500000</td>\n",
       "      <td>2321.5</td>\n",
       "      <td>28389401</td>\n",
       "    </tr>\n",
       "    <tr>\n",
       "      <th>248</th>\n",
       "      <td>2022-09-13</td>\n",
       "      <td>2318.5</td>\n",
       "      <td>2351.5</td>\n",
       "      <td>2307.5</td>\n",
       "      <td>2327.500000</td>\n",
       "      <td>2327.5</td>\n",
       "      <td>14142044</td>\n",
       "    </tr>\n",
       "    <tr>\n",
       "      <th>249</th>\n",
       "      <td>2022-09-14</td>\n",
       "      <td>2306</td>\n",
       "      <td>2354</td>\n",
       "      <td>2284.5</td>\n",
       "      <td>2341.000000</td>\n",
       "      <td>2341</td>\n",
       "      <td>18298486</td>\n",
       "    </tr>\n",
       "    <tr>\n",
       "      <th>250</th>\n",
       "      <td>2022-09-15</td>\n",
       "      <td>2340</td>\n",
       "      <td>2365.5</td>\n",
       "      <td>2307.600098</td>\n",
       "      <td>2314.500000</td>\n",
       "      <td>2314.5</td>\n",
       "      <td>13849101</td>\n",
       "    </tr>\n",
       "    <tr>\n",
       "      <th>251</th>\n",
       "      <td>2022-09-16</td>\n",
       "      <td>2318.5</td>\n",
       "      <td>2341</td>\n",
       "      <td>2281.5</td>\n",
       "      <td>2296.500000</td>\n",
       "      <td>2296.5</td>\n",
       "      <td>78571648</td>\n",
       "    </tr>\n",
       "  </tbody>\n",
       "</table>\n",
       "<p>252 rows × 7 columns</p>\n",
       "</div>"
      ],
      "text/plain": [
       "          Date         Open         High          Low  Close-Shell  \\\n",
       "0   2021-09-17  1476.400024  1479.400024  1446.599976  1456.000000   \n",
       "1   2021-09-20  1433.800049         1445  1422.400024  1436.800049   \n",
       "2   2021-09-21  1459.199951  1513.199951  1459.199951  1489.000000   \n",
       "3   2021-09-22  1501.199951  1529.400024  1501.199951  1517.800049   \n",
       "4   2021-09-23  1525.800049  1528.199951  1507.199951  1523.800049   \n",
       "..         ...          ...          ...          ...          ...   \n",
       "247 2022-12-09       2329.5  2340.125977         2305  2321.500000   \n",
       "248 2022-09-13       2318.5       2351.5       2307.5  2327.500000   \n",
       "249 2022-09-14         2306         2354       2284.5  2341.000000   \n",
       "250 2022-09-15         2340       2365.5  2307.600098  2314.500000   \n",
       "251 2022-09-16       2318.5         2341       2281.5  2296.500000   \n",
       "\n",
       "       Adj Close    Volume  \n",
       "0    1401.227173  18491622  \n",
       "1     1382.74939   8109781  \n",
       "2    1432.985718  14254492  \n",
       "3    1460.702393  14329333  \n",
       "4    1466.476685  33298702  \n",
       "..           ...       ...  \n",
       "247       2321.5  28389401  \n",
       "248       2327.5  14142044  \n",
       "249         2341  18298486  \n",
       "250       2314.5  13849101  \n",
       "251       2296.5  78571648  \n",
       "\n",
       "[252 rows x 7 columns]"
      ]
     },
     "execution_count": 115,
     "metadata": {},
     "output_type": "execute_result"
    }
   ],
   "source": [
    "#Change the closing price to float for graphs\n",
    "ShareShell.set_index('Date')\n",
    "ShareShell['Close-Shell'] = ShareShell['Close-Shell'].astype('float')\n",
    "ShareShell"
   ]
  },
  {
   "cell_type": "code",
   "execution_count": 116,
   "id": "e1c50842",
   "metadata": {},
   "outputs": [
    {
     "data": {
      "text/html": [
       "<div>\n",
       "<style scoped>\n",
       "    .dataframe tbody tr th:only-of-type {\n",
       "        vertical-align: middle;\n",
       "    }\n",
       "\n",
       "    .dataframe tbody tr th {\n",
       "        vertical-align: top;\n",
       "    }\n",
       "\n",
       "    .dataframe thead th {\n",
       "        text-align: right;\n",
       "    }\n",
       "</style>\n",
       "<table border=\"1\" class=\"dataframe\">\n",
       "  <thead>\n",
       "    <tr style=\"text-align: right;\">\n",
       "      <th></th>\n",
       "      <th>Date</th>\n",
       "      <th>Spot Price</th>\n",
       "      <th>Temp</th>\n",
       "    </tr>\n",
       "  </thead>\n",
       "  <tbody>\n",
       "    <tr>\n",
       "      <th>0</th>\n",
       "      <td>2022-08-03</td>\n",
       "      <td>133.18</td>\n",
       "      <td>Hot</td>\n",
       "    </tr>\n",
       "    <tr>\n",
       "      <th>1</th>\n",
       "      <td>2022-08-06</td>\n",
       "      <td>129.2</td>\n",
       "      <td>Hot</td>\n",
       "    </tr>\n",
       "    <tr>\n",
       "      <th>2</th>\n",
       "      <td>2022-07-03</td>\n",
       "      <td>129.02</td>\n",
       "      <td>Hot</td>\n",
       "    </tr>\n",
       "    <tr>\n",
       "      <th>3</th>\n",
       "      <td>2022-09-06</td>\n",
       "      <td>128.47</td>\n",
       "      <td>Hot</td>\n",
       "    </tr>\n",
       "    <tr>\n",
       "      <th>4</th>\n",
       "      <td>2022-06-13</td>\n",
       "      <td>128.44</td>\n",
       "      <td>Hot</td>\n",
       "    </tr>\n",
       "    <tr>\n",
       "      <th>...</th>\n",
       "      <td>...</td>\n",
       "      <td>...</td>\n",
       "      <td>...</td>\n",
       "    </tr>\n",
       "    <tr>\n",
       "      <th>424</th>\n",
       "      <td>2021-01-18</td>\n",
       "      <td>54.21</td>\n",
       "      <td>Hot</td>\n",
       "    </tr>\n",
       "    <tr>\n",
       "      <th>425</th>\n",
       "      <td>2021-06-01</td>\n",
       "      <td>53.8</td>\n",
       "      <td>Hot</td>\n",
       "    </tr>\n",
       "    <tr>\n",
       "      <th>426</th>\n",
       "      <td>2021-07-01</td>\n",
       "      <td>53.7</td>\n",
       "      <td>Cold</td>\n",
       "    </tr>\n",
       "    <tr>\n",
       "      <th>427</th>\n",
       "      <td>2021-05-01</td>\n",
       "      <td>53.16</td>\n",
       "      <td>Cold</td>\n",
       "    </tr>\n",
       "    <tr>\n",
       "      <th>428</th>\n",
       "      <td>2021-04-01</td>\n",
       "      <td>50.37</td>\n",
       "      <td>Hot</td>\n",
       "    </tr>\n",
       "  </tbody>\n",
       "</table>\n",
       "<p>429 rows × 3 columns</p>\n",
       "</div>"
      ],
      "text/plain": [
       "          Date Spot Price  Temp\n",
       "0   2022-08-03     133.18   Hot\n",
       "1   2022-08-06      129.2   Hot\n",
       "2   2022-07-03     129.02   Hot\n",
       "3   2022-09-06     128.47   Hot\n",
       "4   2022-06-13     128.44   Hot\n",
       "..         ...        ...   ...\n",
       "424 2021-01-18      54.21   Hot\n",
       "425 2021-06-01       53.8   Hot\n",
       "426 2021-07-01       53.7  Cold\n",
       "427 2021-05-01      53.16  Cold\n",
       "428 2021-04-01      50.37   Hot\n",
       "\n",
       "[429 rows x 3 columns]"
      ]
     },
     "execution_count": 116,
     "metadata": {},
     "output_type": "execute_result"
    }
   ],
   "source": [
    "#Import the price of oil \n",
    "Oil = pd.read_csv('Oil.csv',sep=',', error_bad_lines=False, index_col=False, dtype='unicode')\n",
    "#Setting the index of the Oil DF to Date\n",
    "Oil.set_index('Date')\n",
    "Oil['Date'] = pd.to_datetime(Oil['Date'])\n",
    "#Viewing the first five rows of the DF                          \n",
    "Oil"
   ]
  },
  {
   "cell_type": "code",
   "execution_count": 117,
   "id": "d4d2a045",
   "metadata": {},
   "outputs": [
    {
     "data": {
      "text/plain": [
       "Date          0\n",
       "Spot Price    0\n",
       "Temp          0\n",
       "dtype: int64"
      ]
     },
     "execution_count": 117,
     "metadata": {},
     "output_type": "execute_result"
    }
   ],
   "source": [
    "#Reviwed if there are any missing values\n",
    "Oil.isnull().sum()"
   ]
  },
  {
   "cell_type": "code",
   "execution_count": 118,
   "id": "e7702eb1",
   "metadata": {},
   "outputs": [
    {
     "data": {
      "text/plain": [
       "Date          datetime64[ns]\n",
       "Spot Price            object\n",
       "Temp                  object\n",
       "dtype: object"
      ]
     },
     "execution_count": 118,
     "metadata": {},
     "output_type": "execute_result"
    }
   ],
   "source": [
    "#Review the data types and change as required.\n",
    "Oil.dtypes\n"
   ]
  },
  {
   "cell_type": "code",
   "execution_count": 119,
   "id": "dac8339b",
   "metadata": {},
   "outputs": [
    {
     "data": {
      "text/html": [
       "<div>\n",
       "<style scoped>\n",
       "    .dataframe tbody tr th:only-of-type {\n",
       "        vertical-align: middle;\n",
       "    }\n",
       "\n",
       "    .dataframe tbody tr th {\n",
       "        vertical-align: top;\n",
       "    }\n",
       "\n",
       "    .dataframe thead th {\n",
       "        text-align: right;\n",
       "    }\n",
       "</style>\n",
       "<table border=\"1\" class=\"dataframe\">\n",
       "  <thead>\n",
       "    <tr style=\"text-align: right;\">\n",
       "      <th></th>\n",
       "      <th>Date</th>\n",
       "      <th>Spot Price</th>\n",
       "      <th>Temp</th>\n",
       "    </tr>\n",
       "  </thead>\n",
       "  <tbody>\n",
       "    <tr>\n",
       "      <th>0</th>\n",
       "      <td>2022-08-03</td>\n",
       "      <td>133.18</td>\n",
       "      <td>Hot</td>\n",
       "    </tr>\n",
       "    <tr>\n",
       "      <th>1</th>\n",
       "      <td>2022-08-06</td>\n",
       "      <td>129.20</td>\n",
       "      <td>Hot</td>\n",
       "    </tr>\n",
       "    <tr>\n",
       "      <th>2</th>\n",
       "      <td>2022-07-03</td>\n",
       "      <td>129.02</td>\n",
       "      <td>Hot</td>\n",
       "    </tr>\n",
       "    <tr>\n",
       "      <th>3</th>\n",
       "      <td>2022-09-06</td>\n",
       "      <td>128.47</td>\n",
       "      <td>Hot</td>\n",
       "    </tr>\n",
       "    <tr>\n",
       "      <th>4</th>\n",
       "      <td>2022-06-13</td>\n",
       "      <td>128.44</td>\n",
       "      <td>Hot</td>\n",
       "    </tr>\n",
       "    <tr>\n",
       "      <th>...</th>\n",
       "      <td>...</td>\n",
       "      <td>...</td>\n",
       "      <td>...</td>\n",
       "    </tr>\n",
       "    <tr>\n",
       "      <th>424</th>\n",
       "      <td>2021-01-18</td>\n",
       "      <td>54.21</td>\n",
       "      <td>Hot</td>\n",
       "    </tr>\n",
       "    <tr>\n",
       "      <th>425</th>\n",
       "      <td>2021-06-01</td>\n",
       "      <td>53.80</td>\n",
       "      <td>Hot</td>\n",
       "    </tr>\n",
       "    <tr>\n",
       "      <th>426</th>\n",
       "      <td>2021-07-01</td>\n",
       "      <td>53.70</td>\n",
       "      <td>Cold</td>\n",
       "    </tr>\n",
       "    <tr>\n",
       "      <th>427</th>\n",
       "      <td>2021-05-01</td>\n",
       "      <td>53.16</td>\n",
       "      <td>Cold</td>\n",
       "    </tr>\n",
       "    <tr>\n",
       "      <th>428</th>\n",
       "      <td>2021-04-01</td>\n",
       "      <td>50.37</td>\n",
       "      <td>Hot</td>\n",
       "    </tr>\n",
       "  </tbody>\n",
       "</table>\n",
       "<p>429 rows × 3 columns</p>\n",
       "</div>"
      ],
      "text/plain": [
       "          Date  Spot Price  Temp\n",
       "0   2022-08-03      133.18   Hot\n",
       "1   2022-08-06      129.20   Hot\n",
       "2   2022-07-03      129.02   Hot\n",
       "3   2022-09-06      128.47   Hot\n",
       "4   2022-06-13      128.44   Hot\n",
       "..         ...         ...   ...\n",
       "424 2021-01-18       54.21   Hot\n",
       "425 2021-06-01       53.80   Hot\n",
       "426 2021-07-01       53.70  Cold\n",
       "427 2021-05-01       53.16  Cold\n",
       "428 2021-04-01       50.37   Hot\n",
       "\n",
       "[429 rows x 3 columns]"
      ]
     },
     "execution_count": 119,
     "metadata": {},
     "output_type": "execute_result"
    }
   ],
   "source": [
    "#Review the data types and change as required.\n",
    "Oil['Spot Price'] = Oil['Spot Price'].astype('float')\n",
    "#Filled the missing values \n",
    "Oil['Spot Price'].fillna(method='ffill', inplace=True)\n",
    "Oil"
   ]
  },
  {
   "cell_type": "code",
   "execution_count": 120,
   "id": "8c260b45",
   "metadata": {},
   "outputs": [
    {
     "data": {
      "text/html": [
       "<div>\n",
       "<style scoped>\n",
       "    .dataframe tbody tr th:only-of-type {\n",
       "        vertical-align: middle;\n",
       "    }\n",
       "\n",
       "    .dataframe tbody tr th {\n",
       "        vertical-align: top;\n",
       "    }\n",
       "\n",
       "    .dataframe thead th {\n",
       "        text-align: right;\n",
       "    }\n",
       "</style>\n",
       "<table border=\"1\" class=\"dataframe\">\n",
       "  <thead>\n",
       "    <tr style=\"text-align: right;\">\n",
       "      <th></th>\n",
       "      <th>Spot Price</th>\n",
       "    </tr>\n",
       "    <tr>\n",
       "      <th>Temp</th>\n",
       "      <th></th>\n",
       "    </tr>\n",
       "  </thead>\n",
       "  <tbody>\n",
       "    <tr>\n",
       "      <th>Cold</th>\n",
       "      <td>79.741141</td>\n",
       "    </tr>\n",
       "    <tr>\n",
       "      <th>Hot</th>\n",
       "      <td>89.571429</td>\n",
       "    </tr>\n",
       "  </tbody>\n",
       "</table>\n",
       "</div>"
      ],
      "text/plain": [
       "      Spot Price\n",
       "Temp            \n",
       "Cold   79.741141\n",
       "Hot    89.571429"
      ]
     },
     "execution_count": 120,
     "metadata": {},
     "output_type": "execute_result"
    }
   ],
   "source": [
    "#To demonstrate the impact of weather on the oil price had atheoritical hot/cold data value was added to the Oil database.\n",
    "Oil.groupby('Temp').mean()"
   ]
  },
  {
   "cell_type": "code",
   "execution_count": 138,
   "id": "17249274",
   "metadata": {},
   "outputs": [
    {
     "data": {
      "text/plain": [
       "Text(0.5, 1.0, 'Oil Price indiviudal DF')"
      ]
     },
     "execution_count": 138,
     "metadata": {},
     "output_type": "execute_result"
    },
    {
     "data": {
      "image/png": "[encoded data removed]",
      "text/plain": [
       "<Figure size 432x288 with 1 Axes>"
      ]
     },
     "metadata": {
      "needs_background": "light"
     },
     "output_type": "display_data"
    }
   ],
   "source": [
    "#Draw a graph to spot any missing values\n",
    "Oil[['Date','Spot Price']].set_index('Date').plot(color=\"green\", linewidth=2.0) \n",
    "plt.title('Oil Price indiviudal DF')"
   ]
  },
  {
   "cell_type": "code",
   "execution_count": 122,
   "id": "e0d77a58",
   "metadata": {},
   "outputs": [
    {
     "data": {
      "text/html": [
       "<div>\n",
       "<style scoped>\n",
       "    .dataframe tbody tr th:only-of-type {\n",
       "        vertical-align: middle;\n",
       "    }\n",
       "\n",
       "    .dataframe tbody tr th {\n",
       "        vertical-align: top;\n",
       "    }\n",
       "\n",
       "    .dataframe thead th {\n",
       "        text-align: right;\n",
       "    }\n",
       "</style>\n",
       "<table border=\"1\" class=\"dataframe\">\n",
       "  <thead>\n",
       "    <tr style=\"text-align: right;\">\n",
       "      <th></th>\n",
       "      <th>Date</th>\n",
       "      <th>Close-BP</th>\n",
       "      <th>Close-Shell</th>\n",
       "      <th>Spot Price</th>\n",
       "    </tr>\n",
       "  </thead>\n",
       "  <tbody>\n",
       "    <tr>\n",
       "      <th>0</th>\n",
       "      <td>2021-09-17</td>\n",
       "      <td>304.649994</td>\n",
       "      <td>1456.000000</td>\n",
       "      <td>74.64</td>\n",
       "    </tr>\n",
       "    <tr>\n",
       "      <th>1</th>\n",
       "      <td>2021-09-20</td>\n",
       "      <td>303.700012</td>\n",
       "      <td>1436.800049</td>\n",
       "      <td>73.59</td>\n",
       "    </tr>\n",
       "    <tr>\n",
       "      <th>2</th>\n",
       "      <td>2021-09-21</td>\n",
       "      <td>308.799988</td>\n",
       "      <td>1489.000000</td>\n",
       "      <td>73.65</td>\n",
       "    </tr>\n",
       "    <tr>\n",
       "      <th>3</th>\n",
       "      <td>2021-09-22</td>\n",
       "      <td>316.75</td>\n",
       "      <td>1517.800049</td>\n",
       "      <td>75.50</td>\n",
       "    </tr>\n",
       "    <tr>\n",
       "      <th>4</th>\n",
       "      <td>2021-09-23</td>\n",
       "      <td>317.75</td>\n",
       "      <td>1523.800049</td>\n",
       "      <td>76.44</td>\n",
       "    </tr>\n",
       "    <tr>\n",
       "      <th>...</th>\n",
       "      <td>...</td>\n",
       "      <td>...</td>\n",
       "      <td>...</td>\n",
       "      <td>...</td>\n",
       "    </tr>\n",
       "    <tr>\n",
       "      <th>247</th>\n",
       "      <td>2022-12-09</td>\n",
       "      <td>457.850006</td>\n",
       "      <td>2321.500000</td>\n",
       "      <td>93.45</td>\n",
       "    </tr>\n",
       "    <tr>\n",
       "      <th>248</th>\n",
       "      <td>2022-09-13</td>\n",
       "      <td>461.549988</td>\n",
       "      <td>2327.500000</td>\n",
       "      <td>NaN</td>\n",
       "    </tr>\n",
       "    <tr>\n",
       "      <th>249</th>\n",
       "      <td>2022-09-14</td>\n",
       "      <td>462.299988</td>\n",
       "      <td>2341.000000</td>\n",
       "      <td>NaN</td>\n",
       "    </tr>\n",
       "    <tr>\n",
       "      <th>250</th>\n",
       "      <td>2022-09-15</td>\n",
       "      <td>456.549988</td>\n",
       "      <td>2314.500000</td>\n",
       "      <td>NaN</td>\n",
       "    </tr>\n",
       "    <tr>\n",
       "      <th>251</th>\n",
       "      <td>2022-09-16</td>\n",
       "      <td>452.049988</td>\n",
       "      <td>2296.500000</td>\n",
       "      <td>NaN</td>\n",
       "    </tr>\n",
       "  </tbody>\n",
       "</table>\n",
       "<p>252 rows × 4 columns</p>\n",
       "</div>"
      ],
      "text/plain": [
       "          Date    Close-BP  Close-Shell  Spot Price\n",
       "0   2021-09-17  304.649994  1456.000000       74.64\n",
       "1   2021-09-20  303.700012  1436.800049       73.59\n",
       "2   2021-09-21  308.799988  1489.000000       73.65\n",
       "3   2021-09-22      316.75  1517.800049       75.50\n",
       "4   2021-09-23      317.75  1523.800049       76.44\n",
       "..         ...         ...          ...         ...\n",
       "247 2022-12-09  457.850006  2321.500000       93.45\n",
       "248 2022-09-13  461.549988  2327.500000         NaN\n",
       "249 2022-09-14  462.299988  2341.000000         NaN\n",
       "250 2022-09-15  456.549988  2314.500000         NaN\n",
       "251 2022-09-16  452.049988  2296.500000         NaN\n",
       "\n",
       "[252 rows x 4 columns]"
      ]
     },
     "execution_count": 122,
     "metadata": {},
     "output_type": "execute_result"
    }
   ],
   "source": [
    "#Dropped Columns that are not required for this analysis\n",
    "ShareBP.drop(labels=[\"Open\",\"High\",\"Low\",\"Adj Close\",\"Volume\"],axis=1,inplace=True)\n",
    "ShareShell.drop(labels=[\"Open\",\"High\",\"Low\",\"Adj Close\",\"Volume\"],axis=1,inplace=True)\n",
    "Oil.drop(labels=[\"Temp\"],axis=1,inplace=True)\n",
    "#Created a mergerd data_frames = [Oil, ShareBP, ShareFP]\n",
    "df_merged = ShareBP.merge(ShareShell,how='left', left_on='Date', right_on='Date')\n",
    "df_merged = df_merged.merge(Oil,how='left', left_on='Date', right_on='Date')\n",
    "df_merged\n"
   ]
  },
  {
   "cell_type": "code",
   "execution_count": 133,
   "id": "a1c5eac9",
   "metadata": {},
   "outputs": [
    {
     "data": {
      "text/html": [
       "<div>\n",
       "<style scoped>\n",
       "    .dataframe tbody tr th:only-of-type {\n",
       "        vertical-align: middle;\n",
       "    }\n",
       "\n",
       "    .dataframe tbody tr th {\n",
       "        vertical-align: top;\n",
       "    }\n",
       "\n",
       "    .dataframe thead th {\n",
       "        text-align: right;\n",
       "    }\n",
       "</style>\n",
       "<table border=\"1\" class=\"dataframe\">\n",
       "  <thead>\n",
       "    <tr style=\"text-align: right;\">\n",
       "      <th></th>\n",
       "      <th>Date</th>\n",
       "      <th>Close-BP</th>\n",
       "      <th>Close-Shell</th>\n",
       "      <th>Spot Price</th>\n",
       "    </tr>\n",
       "  </thead>\n",
       "  <tbody>\n",
       "    <tr>\n",
       "      <th>0</th>\n",
       "      <td>2021-09-17</td>\n",
       "      <td>304.649994</td>\n",
       "      <td>1456.000000</td>\n",
       "      <td>74.64</td>\n",
       "    </tr>\n",
       "    <tr>\n",
       "      <th>1</th>\n",
       "      <td>2021-09-20</td>\n",
       "      <td>303.700012</td>\n",
       "      <td>1436.800049</td>\n",
       "      <td>73.59</td>\n",
       "    </tr>\n",
       "    <tr>\n",
       "      <th>2</th>\n",
       "      <td>2021-09-21</td>\n",
       "      <td>308.799988</td>\n",
       "      <td>1489.000000</td>\n",
       "      <td>73.65</td>\n",
       "    </tr>\n",
       "    <tr>\n",
       "      <th>3</th>\n",
       "      <td>2021-09-22</td>\n",
       "      <td>316.75</td>\n",
       "      <td>1517.800049</td>\n",
       "      <td>75.50</td>\n",
       "    </tr>\n",
       "    <tr>\n",
       "      <th>4</th>\n",
       "      <td>2021-09-23</td>\n",
       "      <td>317.75</td>\n",
       "      <td>1523.800049</td>\n",
       "      <td>76.44</td>\n",
       "    </tr>\n",
       "    <tr>\n",
       "      <th>...</th>\n",
       "      <td>...</td>\n",
       "      <td>...</td>\n",
       "      <td>...</td>\n",
       "      <td>...</td>\n",
       "    </tr>\n",
       "    <tr>\n",
       "      <th>247</th>\n",
       "      <td>2022-12-09</td>\n",
       "      <td>457.850006</td>\n",
       "      <td>2321.500000</td>\n",
       "      <td>93.45</td>\n",
       "    </tr>\n",
       "    <tr>\n",
       "      <th>248</th>\n",
       "      <td>2022-09-13</td>\n",
       "      <td>461.549988</td>\n",
       "      <td>2327.500000</td>\n",
       "      <td>93.45</td>\n",
       "    </tr>\n",
       "    <tr>\n",
       "      <th>249</th>\n",
       "      <td>2022-09-14</td>\n",
       "      <td>462.299988</td>\n",
       "      <td>2341.000000</td>\n",
       "      <td>93.45</td>\n",
       "    </tr>\n",
       "    <tr>\n",
       "      <th>250</th>\n",
       "      <td>2022-09-15</td>\n",
       "      <td>456.549988</td>\n",
       "      <td>2314.500000</td>\n",
       "      <td>93.45</td>\n",
       "    </tr>\n",
       "    <tr>\n",
       "      <th>251</th>\n",
       "      <td>2022-09-16</td>\n",
       "      <td>452.049988</td>\n",
       "      <td>2296.500000</td>\n",
       "      <td>93.45</td>\n",
       "    </tr>\n",
       "  </tbody>\n",
       "</table>\n",
       "<p>252 rows × 4 columns</p>\n",
       "</div>"
      ],
      "text/plain": [
       "          Date    Close-BP  Close-Shell  Spot Price\n",
       "0   2021-09-17  304.649994  1456.000000       74.64\n",
       "1   2021-09-20  303.700012  1436.800049       73.59\n",
       "2   2021-09-21  308.799988  1489.000000       73.65\n",
       "3   2021-09-22      316.75  1517.800049       75.50\n",
       "4   2021-09-23      317.75  1523.800049       76.44\n",
       "..         ...         ...          ...         ...\n",
       "247 2022-12-09  457.850006  2321.500000       93.45\n",
       "248 2022-09-13  461.549988  2327.500000       93.45\n",
       "249 2022-09-14  462.299988  2341.000000       93.45\n",
       "250 2022-09-15  456.549988  2314.500000       93.45\n",
       "251 2022-09-16  452.049988  2296.500000       93.45\n",
       "\n",
       "[252 rows x 4 columns]"
      ]
     },
     "execution_count": 133,
     "metadata": {},
     "output_type": "execute_result"
    }
   ],
   "source": [
    "#Set index to date\n",
    "df_merged.set_index('Date')\n",
    "#Filled all the Null values with the previous rows values for the Spot Price column\n",
    "df_merged"
   ]
  },
  {
   "cell_type": "code",
   "execution_count": 134,
   "id": "5b23a11a",
   "metadata": {},
   "outputs": [
    {
     "data": {
      "text/plain": [
       "Date           datetime64[ns]\n",
       "Close-BP               object\n",
       "Close-Shell           float64\n",
       "Spot Price            float64\n",
       "dtype: object"
      ]
     },
     "execution_count": 134,
     "metadata": {},
     "output_type": "execute_result"
    }
   ],
   "source": [
    "#Review the datatypes\n",
    "df_merged.dtypes"
   ]
  },
  {
   "cell_type": "code",
   "execution_count": 136,
   "id": "5661242e",
   "metadata": {},
   "outputs": [
    {
     "data": {
      "text/plain": [
       "Date           0\n",
       "Close-BP       0\n",
       "Close-Shell    0\n",
       "Spot Price     0\n",
       "dtype: int64"
      ]
     },
     "execution_count": 136,
     "metadata": {},
     "output_type": "execute_result"
    }
   ],
   "source": [
    "#Ensure no 0 values are present\n",
    "df_merged.isnull().sum()"
   ]
  },
  {
   "cell_type": "code",
   "execution_count": 130,
   "id": "74264331",
   "metadata": {},
   "outputs": [],
   "source": [
    "#Create a df naming convention (Easier to use than df_Merged)\n",
    "df=df_merged\n",
    "df_merged.dropna(how='all',inplace=True)\n",
    "df['Spot Price'].fillna(method='ffill', inplace=True)"
   ]
  },
  {
   "cell_type": "code",
   "execution_count": 132,
   "id": "979b7c62",
   "metadata": {},
   "outputs": [
    {
     "data": {
      "text/html": [
       "<div>\n",
       "<style scoped>\n",
       "    .dataframe tbody tr th:only-of-type {\n",
       "        vertical-align: middle;\n",
       "    }\n",
       "\n",
       "    .dataframe tbody tr th {\n",
       "        vertical-align: top;\n",
       "    }\n",
       "\n",
       "    .dataframe thead th {\n",
       "        text-align: right;\n",
       "    }\n",
       "</style>\n",
       "<table border=\"1\" class=\"dataframe\">\n",
       "  <thead>\n",
       "    <tr style=\"text-align: right;\">\n",
       "      <th></th>\n",
       "      <th>Close-BP</th>\n",
       "      <th>Close-Shell</th>\n",
       "      <th>Spot Price</th>\n",
       "    </tr>\n",
       "    <tr>\n",
       "      <th>Date</th>\n",
       "      <th></th>\n",
       "      <th></th>\n",
       "      <th></th>\n",
       "    </tr>\n",
       "  </thead>\n",
       "  <tbody>\n",
       "    <tr>\n",
       "      <th>2021-09-17</th>\n",
       "      <td>304.649994</td>\n",
       "      <td>1456.000000</td>\n",
       "      <td>74.64</td>\n",
       "    </tr>\n",
       "    <tr>\n",
       "      <th>2021-09-20</th>\n",
       "      <td>303.700012</td>\n",
       "      <td>1436.800049</td>\n",
       "      <td>73.59</td>\n",
       "    </tr>\n",
       "    <tr>\n",
       "      <th>2021-09-21</th>\n",
       "      <td>308.799988</td>\n",
       "      <td>1489.000000</td>\n",
       "      <td>73.65</td>\n",
       "    </tr>\n",
       "    <tr>\n",
       "      <th>2021-09-22</th>\n",
       "      <td>316.75</td>\n",
       "      <td>1517.800049</td>\n",
       "      <td>75.50</td>\n",
       "    </tr>\n",
       "    <tr>\n",
       "      <th>2021-09-23</th>\n",
       "      <td>317.75</td>\n",
       "      <td>1523.800049</td>\n",
       "      <td>76.44</td>\n",
       "    </tr>\n",
       "    <tr>\n",
       "      <th>...</th>\n",
       "      <td>...</td>\n",
       "      <td>...</td>\n",
       "      <td>...</td>\n",
       "    </tr>\n",
       "    <tr>\n",
       "      <th>2022-12-09</th>\n",
       "      <td>457.850006</td>\n",
       "      <td>2321.500000</td>\n",
       "      <td>93.45</td>\n",
       "    </tr>\n",
       "    <tr>\n",
       "      <th>2022-09-13</th>\n",
       "      <td>461.549988</td>\n",
       "      <td>2327.500000</td>\n",
       "      <td>93.45</td>\n",
       "    </tr>\n",
       "    <tr>\n",
       "      <th>2022-09-14</th>\n",
       "      <td>462.299988</td>\n",
       "      <td>2341.000000</td>\n",
       "      <td>93.45</td>\n",
       "    </tr>\n",
       "    <tr>\n",
       "      <th>2022-09-15</th>\n",
       "      <td>456.549988</td>\n",
       "      <td>2314.500000</td>\n",
       "      <td>93.45</td>\n",
       "    </tr>\n",
       "    <tr>\n",
       "      <th>2022-09-16</th>\n",
       "      <td>452.049988</td>\n",
       "      <td>2296.500000</td>\n",
       "      <td>93.45</td>\n",
       "    </tr>\n",
       "  </tbody>\n",
       "</table>\n",
       "<p>252 rows × 3 columns</p>\n",
       "</div>"
      ],
      "text/plain": [
       "              Close-BP  Close-Shell  Spot Price\n",
       "Date                                           \n",
       "2021-09-17  304.649994  1456.000000       74.64\n",
       "2021-09-20  303.700012  1436.800049       73.59\n",
       "2021-09-21  308.799988  1489.000000       73.65\n",
       "2021-09-22      316.75  1517.800049       75.50\n",
       "2021-09-23      317.75  1523.800049       76.44\n",
       "...                ...          ...         ...\n",
       "2022-12-09  457.850006  2321.500000       93.45\n",
       "2022-09-13  461.549988  2327.500000       93.45\n",
       "2022-09-14  462.299988  2341.000000       93.45\n",
       "2022-09-15  456.549988  2314.500000       93.45\n",
       "2022-09-16  452.049988  2296.500000       93.45\n",
       "\n",
       "[252 rows x 3 columns]"
      ]
     },
     "execution_count": 132,
     "metadata": {},
     "output_type": "execute_result"
    }
   ],
   "source": [
    "#Set index to date on the DF\n",
    "df.set_index('Date')"
   ]
  },
  {
   "cell_type": "code",
   "execution_count": 142,
   "id": "3314acbb",
   "metadata": {},
   "outputs": [
    {
     "data": {
      "text/plain": [
       "Date           datetime64[ns]\n",
       "Close-BP               object\n",
       "Close-Shell           float64\n",
       "Spot Price            float64\n",
       "dtype: object"
      ]
     },
     "execution_count": 142,
     "metadata": {},
     "output_type": "execute_result"
    }
   ],
   "source": [
    "df\n",
    "df.dtypes"
   ]
  },
  {
   "cell_type": "code",
   "execution_count": 147,
   "id": "c629c126",
   "metadata": {},
   "outputs": [
    {
     "data": {
      "text/plain": [
       "Date           datetime64[ns]\n",
       "Close-BP              float64\n",
       "Close-Shell           float64\n",
       "Spot Price            float64\n",
       "dtype: object"
      ]
     },
     "execution_count": 147,
     "metadata": {},
     "output_type": "execute_result"
    }
   ],
   "source": [
    "#Renamed all closing prices to flaot\n",
    "df['Close-BP'] = df['Close-BP'].astype('float')\n",
    "df.dtypes"
   ]
  },
  {
   "cell_type": "code",
   "execution_count": 150,
   "id": "65be3e96",
   "metadata": {},
   "outputs": [],
   "source": [
    "#Dropp Dates to ensure all 3 graphs have the same date paramaters\n",
    "mod_df = df.dropna( axis=0, \n",
    "                    how='any')"
   ]
  },
  {
   "cell_type": "code",
   "execution_count": 151,
   "id": "e19e76e7",
   "metadata": {},
   "outputs": [
    {
     "data": {
      "text/plain": [
       "Text(0.5, 1.0, 'Oil Closing price-Combined DF')"
      ]
     },
     "execution_count": 151,
     "metadata": {},
     "output_type": "execute_result"
    },
    {
     "data": {
      "image/png": "[encoded data removed]",
      "text/plain": [
       "<Figure size 432x288 with 1 Axes>"
      ]
     },
     "metadata": {
      "needs_background": "light"
     },
     "output_type": "display_data"
    }
   ],
   "source": [
    "#Plot Oil price over time\n",
    "mod_df[['Date','Spot Price']].set_index('Date').plot(color=\"black\", linewidth=2.0)  \n",
    "plt.title('Oil Closing price-Combined DF')"
   ]
  },
  {
   "cell_type": "code",
   "execution_count": 152,
   "id": "6fff28fe",
   "metadata": {},
   "outputs": [
    {
     "data": {
      "text/plain": [
       "Text(0.5, 1.0, 'Shell Closing price-Combined DF')"
      ]
     },
     "execution_count": 152,
     "metadata": {},
     "output_type": "execute_result"
    },
    {
     "data": {
      "image/png": "[encoded data removed]",
      "text/plain": [
       "<Figure size 432x288 with 1 Axes>"
      ]
     },
     "metadata": {
      "needs_background": "light"
     },
     "output_type": "display_data"
    }
   ],
   "source": [
    "#Plot Shell price over time\n",
    "mod_df [['Date','Close-Shell']].set_index('Date').plot(color=\"green\", linewidth=2.0) \n",
    "plt.title('Shell Closing price-Combined DF')"
   ]
  },
  {
   "cell_type": "code",
   "execution_count": 153,
   "id": "79209253",
   "metadata": {},
   "outputs": [
    {
     "data": {
      "text/plain": [
       "Text(0.5, 1.0, 'BP Closing price-Combined DF')"
      ]
     },
     "execution_count": 153,
     "metadata": {},
     "output_type": "execute_result"
    },
    {
     "data": {
      "image/png": "[encoded data removed]",
      "text/plain": [
       "<Figure size 432x288 with 1 Axes>"
      ]
     },
     "metadata": {
      "needs_background": "light"
     },
     "output_type": "display_data"
    }
   ],
   "source": [
    "#Plot BP price over time\n",
    "mod_df[['Date','Close-BP']].set_index('Date').plot(color=\"red\", linewidth=2.0) \n",
    "plt.title('BP Closing price-Combined DF')"
   ]
  },
  {
   "cell_type": "code",
   "execution_count": 76,
   "id": "031aa374",
   "metadata": {},
   "outputs": [
    {
     "data": {
      "text/html": [
       "<div>\n",
       "<style scoped>\n",
       "    .dataframe tbody tr th:only-of-type {\n",
       "        vertical-align: middle;\n",
       "    }\n",
       "\n",
       "    .dataframe tbody tr th {\n",
       "        vertical-align: top;\n",
       "    }\n",
       "\n",
       "    .dataframe thead th {\n",
       "        text-align: right;\n",
       "    }\n",
       "</style>\n",
       "<table border=\"1\" class=\"dataframe\">\n",
       "  <thead>\n",
       "    <tr style=\"text-align: right;\">\n",
       "      <th></th>\n",
       "      <th>Close-BP</th>\n",
       "      <th>Close-Shell</th>\n",
       "      <th>Spot Price</th>\n",
       "    </tr>\n",
       "  </thead>\n",
       "  <tbody>\n",
       "    <tr>\n",
       "      <th>count</th>\n",
       "      <td>248.000000</td>\n",
       "      <td>248.000000</td>\n",
       "      <td>248.000000</td>\n",
       "    </tr>\n",
       "    <tr>\n",
       "      <th>mean</th>\n",
       "      <td>381.993951</td>\n",
       "      <td>1971.273789</td>\n",
       "      <td>98.169677</td>\n",
       "    </tr>\n",
       "    <tr>\n",
       "      <th>std</th>\n",
       "      <td>36.292786</td>\n",
       "      <td>255.153755</td>\n",
       "      <td>16.211867</td>\n",
       "    </tr>\n",
       "    <tr>\n",
       "      <th>min</th>\n",
       "      <td>303.700012</td>\n",
       "      <td>1436.800049</td>\n",
       "      <td>69.530000</td>\n",
       "    </tr>\n",
       "    <tr>\n",
       "      <th>25%</th>\n",
       "      <td>354.487488</td>\n",
       "      <td>1716.949951</td>\n",
       "      <td>83.422500</td>\n",
       "    </tr>\n",
       "    <tr>\n",
       "      <th>50%</th>\n",
       "      <td>382.849991</td>\n",
       "      <td>2005.000000</td>\n",
       "      <td>98.495000</td>\n",
       "    </tr>\n",
       "    <tr>\n",
       "      <th>75%</th>\n",
       "      <td>404.499992</td>\n",
       "      <td>2177.500000</td>\n",
       "      <td>111.660000</td>\n",
       "    </tr>\n",
       "    <tr>\n",
       "      <th>max</th>\n",
       "      <td>463.350006</td>\n",
       "      <td>2440.000000</td>\n",
       "      <td>133.180000</td>\n",
       "    </tr>\n",
       "  </tbody>\n",
       "</table>\n",
       "</div>"
      ],
      "text/plain": [
       "         Close-BP  Close-Shell  Spot Price\n",
       "count  248.000000   248.000000  248.000000\n",
       "mean   381.993951  1971.273789   98.169677\n",
       "std     36.292786   255.153755   16.211867\n",
       "min    303.700012  1436.800049   69.530000\n",
       "25%    354.487488  1716.949951   83.422500\n",
       "50%    382.849991  2005.000000   98.495000\n",
       "75%    404.499992  2177.500000  111.660000\n",
       "max    463.350006  2440.000000  133.180000"
      ]
     },
     "execution_count": 76,
     "metadata": {},
     "output_type": "execute_result"
    }
   ],
   "source": [
    "#Analysis of DB\n",
    "mod_df.describe()"
   ]
  },
  {
   "cell_type": "code",
   "execution_count": 155,
   "id": "becb59e5",
   "metadata": {},
   "outputs": [
    {
     "data": {
      "text/html": [
       "<div>\n",
       "<style scoped>\n",
       "    .dataframe tbody tr th:only-of-type {\n",
       "        vertical-align: middle;\n",
       "    }\n",
       "\n",
       "    .dataframe tbody tr th {\n",
       "        vertical-align: top;\n",
       "    }\n",
       "\n",
       "    .dataframe thead th {\n",
       "        text-align: right;\n",
       "    }\n",
       "</style>\n",
       "<table border=\"1\" class=\"dataframe\">\n",
       "  <thead>\n",
       "    <tr style=\"text-align: right;\">\n",
       "      <th></th>\n",
       "      <th>Date</th>\n",
       "      <th>Close-BP</th>\n",
       "      <th>Close-Shell</th>\n",
       "      <th>Spot Price</th>\n",
       "    </tr>\n",
       "  </thead>\n",
       "  <tbody>\n",
       "    <tr>\n",
       "      <th>53</th>\n",
       "      <td>2021-01-12</td>\n",
       "      <td>325.450012</td>\n",
       "      <td>1607.0</td>\n",
       "      <td>69.53</td>\n",
       "    </tr>\n",
       "  </tbody>\n",
       "</table>\n",
       "</div>"
      ],
      "text/plain": [
       "         Date    Close-BP  Close-Shell  Spot Price\n",
       "53 2021-01-12  325.450012       1607.0       69.53"
      ]
     },
     "execution_count": 155,
     "metadata": {},
     "output_type": "execute_result"
    }
   ],
   "source": [
    "#Filter on a specific criteria-select rows between two data prices for Oil\n",
    "mod_df.loc[(mod_df['Spot Price']>=60) &  (mod_df['Spot Price']<=70)]"
   ]
  },
  {
   "cell_type": "code",
   "execution_count": 156,
   "id": "06f0deb4",
   "metadata": {},
   "outputs": [
    {
     "data": {
      "text/plain": [
       "376992.00672000006"
      ]
     },
     "execution_count": 156,
     "metadata": {},
     "output_type": "execute_result"
    }
   ],
   "source": [
    "#Covert a specific value to Yen'000\n",
    "def YenVal(a):\n",
    "    return (a) *1.12*1000\n",
    "Yen = YenVal(336.600006)\n",
    "Yen"
   ]
  },
  {
   "cell_type": "code",
   "execution_count": 157,
   "id": "9fedaa17",
   "metadata": {},
   "outputs": [
    {
     "data": {
      "text/plain": [
       "Date           datetime64[ns]\n",
       "Close-BP              float64\n",
       "Close-Shell           float64\n",
       "Spot Price            float64\n",
       "dtype: object"
      ]
     },
     "execution_count": 157,
     "metadata": {},
     "output_type": "execute_result"
    }
   ],
   "source": [
    "mod_df.dtypes"
   ]
  },
  {
   "cell_type": "code",
   "execution_count": 158,
   "id": "a9556588",
   "metadata": {},
   "outputs": [],
   "source": [
    "#One can now conclude the same date paramaters are used for both 3 these sets\n",
    "#There is one additional problem the share prices are not comparable-for ease of analysis we will baseline the price of Close-Shell\n",
    "mod_df['RatioRebasedShell'] = mod_df['Close-Shell'] / 1456.00*100\n",
    "mod_df['RatioRebasedBP'] = mod_df['Close-BP'] / 304.64994*100\n",
    "mod_df['RatioRebasedBPd'] = mod_df['RatioRebasedBP']-mod_df['Spot Price']\n",
    "mod_df['RatioRebasedShelld'] = mod_df['RatioRebasedShell']-mod_df['Spot Price']\n"
   ]
  },
  {
   "cell_type": "code",
   "execution_count": 159,
   "id": "43652bbc",
   "metadata": {},
   "outputs": [
    {
     "data": {
      "text/html": [
       "<div>\n",
       "<style scoped>\n",
       "    .dataframe tbody tr th:only-of-type {\n",
       "        vertical-align: middle;\n",
       "    }\n",
       "\n",
       "    .dataframe tbody tr th {\n",
       "        vertical-align: top;\n",
       "    }\n",
       "\n",
       "    .dataframe thead th {\n",
       "        text-align: right;\n",
       "    }\n",
       "</style>\n",
       "<table border=\"1\" class=\"dataframe\">\n",
       "  <thead>\n",
       "    <tr style=\"text-align: right;\">\n",
       "      <th></th>\n",
       "      <th>Date</th>\n",
       "      <th>Close-BP</th>\n",
       "      <th>Close-Shell</th>\n",
       "      <th>Spot Price</th>\n",
       "      <th>RatioRebasedShell</th>\n",
       "      <th>RatioRebasedBP</th>\n",
       "      <th>RatioRebasedBPd</th>\n",
       "      <th>RatioRebasedShelld</th>\n",
       "    </tr>\n",
       "  </thead>\n",
       "  <tbody>\n",
       "    <tr>\n",
       "      <th>0</th>\n",
       "      <td>2021-09-17</td>\n",
       "      <td>304.649994</td>\n",
       "      <td>1456.000000</td>\n",
       "      <td>74.64</td>\n",
       "      <td>100.000000</td>\n",
       "      <td>100.000018</td>\n",
       "      <td>25.360018</td>\n",
       "      <td>25.360000</td>\n",
       "    </tr>\n",
       "    <tr>\n",
       "      <th>1</th>\n",
       "      <td>2021-09-20</td>\n",
       "      <td>303.700012</td>\n",
       "      <td>1436.800049</td>\n",
       "      <td>73.59</td>\n",
       "      <td>98.681322</td>\n",
       "      <td>99.688190</td>\n",
       "      <td>26.098190</td>\n",
       "      <td>25.091322</td>\n",
       "    </tr>\n",
       "    <tr>\n",
       "      <th>2</th>\n",
       "      <td>2021-09-21</td>\n",
       "      <td>308.799988</td>\n",
       "      <td>1489.000000</td>\n",
       "      <td>73.65</td>\n",
       "      <td>102.266484</td>\n",
       "      <td>101.362235</td>\n",
       "      <td>27.712235</td>\n",
       "      <td>28.616484</td>\n",
       "    </tr>\n",
       "    <tr>\n",
       "      <th>3</th>\n",
       "      <td>2021-09-22</td>\n",
       "      <td>316.750000</td>\n",
       "      <td>1517.800049</td>\n",
       "      <td>75.50</td>\n",
       "      <td>104.244509</td>\n",
       "      <td>103.971791</td>\n",
       "      <td>28.471791</td>\n",
       "      <td>28.744509</td>\n",
       "    </tr>\n",
       "    <tr>\n",
       "      <th>4</th>\n",
       "      <td>2021-09-23</td>\n",
       "      <td>317.750000</td>\n",
       "      <td>1523.800049</td>\n",
       "      <td>76.44</td>\n",
       "      <td>104.656597</td>\n",
       "      <td>104.300037</td>\n",
       "      <td>27.860037</td>\n",
       "      <td>28.216597</td>\n",
       "    </tr>\n",
       "  </tbody>\n",
       "</table>\n",
       "</div>"
      ],
      "text/plain": [
       "        Date    Close-BP  Close-Shell  Spot Price  RatioRebasedShell  \\\n",
       "0 2021-09-17  304.649994  1456.000000       74.64         100.000000   \n",
       "1 2021-09-20  303.700012  1436.800049       73.59          98.681322   \n",
       "2 2021-09-21  308.799988  1489.000000       73.65         102.266484   \n",
       "3 2021-09-22  316.750000  1517.800049       75.50         104.244509   \n",
       "4 2021-09-23  317.750000  1523.800049       76.44         104.656597   \n",
       "\n",
       "   RatioRebasedBP  RatioRebasedBPd  RatioRebasedShelld  \n",
       "0      100.000018        25.360018           25.360000  \n",
       "1       99.688190        26.098190           25.091322  \n",
       "2      101.362235        27.712235           28.616484  \n",
       "3      103.971791        28.471791           28.744509  \n",
       "4      104.300037        27.860037           28.216597  "
      ]
     },
     "execution_count": 159,
     "metadata": {},
     "output_type": "execute_result"
    }
   ],
   "source": [
    "#Ananalysing if new column values are reflecting\n",
    "mod_df.head()\n"
   ]
  },
  {
   "cell_type": "code",
   "execution_count": 162,
   "id": "a6450410",
   "metadata": {},
   "outputs": [
    {
     "data": {
      "text/html": [
       "<div>\n",
       "<style scoped>\n",
       "    .dataframe tbody tr th:only-of-type {\n",
       "        vertical-align: middle;\n",
       "    }\n",
       "\n",
       "    .dataframe tbody tr th {\n",
       "        vertical-align: top;\n",
       "    }\n",
       "\n",
       "    .dataframe thead th {\n",
       "        text-align: right;\n",
       "    }\n",
       "</style>\n",
       "<table border=\"1\" class=\"dataframe\">\n",
       "  <thead>\n",
       "    <tr style=\"text-align: right;\">\n",
       "      <th></th>\n",
       "      <th>Close-BP</th>\n",
       "      <th>Close-Shell</th>\n",
       "      <th>Spot Price</th>\n",
       "      <th>RatioRebasedShell</th>\n",
       "      <th>RatioRebasedBP</th>\n",
       "      <th>RatioRebasedBPd</th>\n",
       "      <th>RatioRebasedShelld</th>\n",
       "    </tr>\n",
       "  </thead>\n",
       "  <tbody>\n",
       "    <tr>\n",
       "      <th>count</th>\n",
       "      <td>252.000000</td>\n",
       "      <td>252.000000</td>\n",
       "      <td>252.000000</td>\n",
       "      <td>252.000000</td>\n",
       "      <td>252.000000</td>\n",
       "      <td>252.000000</td>\n",
       "      <td>252.000000</td>\n",
       "    </tr>\n",
       "    <tr>\n",
       "      <th>mean</th>\n",
       "      <td>383.202182</td>\n",
       "      <td>1976.807141</td>\n",
       "      <td>98.094762</td>\n",
       "      <td>135.769721</td>\n",
       "      <td>125.784427</td>\n",
       "      <td>27.689665</td>\n",
       "      <td>37.674959</td>\n",
       "    </tr>\n",
       "    <tr>\n",
       "      <th>std</th>\n",
       "      <td>37.246721</td>\n",
       "      <td>256.858159</td>\n",
       "      <td>16.093027</td>\n",
       "      <td>17.641357</td>\n",
       "      <td>12.226072</td>\n",
       "      <td>13.486731</td>\n",
       "      <td>11.365881</td>\n",
       "    </tr>\n",
       "    <tr>\n",
       "      <th>min</th>\n",
       "      <td>303.700012</td>\n",
       "      <td>1436.800049</td>\n",
       "      <td>69.530000</td>\n",
       "      <td>98.681322</td>\n",
       "      <td>99.688190</td>\n",
       "      <td>-10.359218</td>\n",
       "      <td>2.060331</td>\n",
       "    </tr>\n",
       "    <tr>\n",
       "      <th>25%</th>\n",
       "      <td>354.912506</td>\n",
       "      <td>1720.299988</td>\n",
       "      <td>83.505000</td>\n",
       "      <td>118.152472</td>\n",
       "      <td>116.498466</td>\n",
       "      <td>19.075559</td>\n",
       "      <td>30.996622</td>\n",
       "    </tr>\n",
       "    <tr>\n",
       "      <th>50%</th>\n",
       "      <td>383.099991</td>\n",
       "      <td>2011.750000</td>\n",
       "      <td>98.120000</td>\n",
       "      <td>138.169643</td>\n",
       "      <td>125.750883</td>\n",
       "      <td>30.000377</td>\n",
       "      <td>37.068901</td>\n",
       "    </tr>\n",
       "    <tr>\n",
       "      <th>75%</th>\n",
       "      <td>406.424996</td>\n",
       "      <td>2182.000000</td>\n",
       "      <td>111.075000</td>\n",
       "      <td>149.862637</td>\n",
       "      <td>133.407213</td>\n",
       "      <td>35.623291</td>\n",
       "      <td>43.085234</td>\n",
       "    </tr>\n",
       "    <tr>\n",
       "      <th>max</th>\n",
       "      <td>463.350006</td>\n",
       "      <td>2440.000000</td>\n",
       "      <td>133.180000</td>\n",
       "      <td>167.582418</td>\n",
       "      <td>152.092597</td>\n",
       "      <td>58.297933</td>\n",
       "      <td>68.595824</td>\n",
       "    </tr>\n",
       "  </tbody>\n",
       "</table>\n",
       "</div>"
      ],
      "text/plain": [
       "         Close-BP  Close-Shell  Spot Price  RatioRebasedShell  RatioRebasedBP  \\\n",
       "count  252.000000   252.000000  252.000000         252.000000      252.000000   \n",
       "mean   383.202182  1976.807141   98.094762         135.769721      125.784427   \n",
       "std     37.246721   256.858159   16.093027          17.641357       12.226072   \n",
       "min    303.700012  1436.800049   69.530000          98.681322       99.688190   \n",
       "25%    354.912506  1720.299988   83.505000         118.152472      116.498466   \n",
       "50%    383.099991  2011.750000   98.120000         138.169643      125.750883   \n",
       "75%    406.424996  2182.000000  111.075000         149.862637      133.407213   \n",
       "max    463.350006  2440.000000  133.180000         167.582418      152.092597   \n",
       "\n",
       "       RatioRebasedBPd  RatioRebasedShelld  \n",
       "count       252.000000          252.000000  \n",
       "mean         27.689665           37.674959  \n",
       "std          13.486731           11.365881  \n",
       "min         -10.359218            2.060331  \n",
       "25%          19.075559           30.996622  \n",
       "50%          30.000377           37.068901  \n",
       "75%          35.623291           43.085234  \n",
       "max          58.297933           68.595824  "
      ]
     },
     "execution_count": 162,
     "metadata": {},
     "output_type": "execute_result"
    }
   ],
   "source": [
    "#Reviewing if rebased values (RatioRebasedBPd,RatioRebasedShelld) are comparable\n",
    "mod_df.describe()"
   ]
  },
  {
   "cell_type": "code",
   "execution_count": 85,
   "id": "50c0db67",
   "metadata": {},
   "outputs": [
    {
     "data": {
      "text/plain": [
       "Text(0.5, 1.0, 'Correlation between Oil Price and Shell and BP Share price')"
      ]
     },
     "execution_count": 85,
     "metadata": {},
     "output_type": "execute_result"
    },
    {
     "data": {
      "image/png": "[encoded data removed]",
      "text/plain": [
       "<Figure size 720x360 with 1 Axes>"
      ]
     },
     "metadata": {
      "needs_background": "light"
     },
     "output_type": "display_data"
    }
   ],
   "source": [
    "#Plotting Oil and the Rebased Closing values of BP and Shell over a date series\n",
    "plt.subplots(figsize=(10,5))\n",
    "\n",
    "plt.scatter(mod_df['Date'],mod_df['RatioRebasedShelld'],color='green',label=\"Shell\")\n",
    "plt.scatter(mod_df['Date'],mod_df['RatioRebasedBPd'],color='red',label=\"BP\")\n",
    "plt.scatter(mod_df['Date'],mod_df['Spot Price'],color='black',label=\"SpotPriceOil\")\n",
    "plt.legend(loc='upper left')\n",
    "\n",
    "plt.xlabel('Date (months)')\n",
    "plt.ylabel('USD')\n",
    "plt.title('Correlation between Oil Price and Shell and BP Share price')"
   ]
  },
  {
   "cell_type": "code",
   "execution_count": 87,
   "id": "ba68b9b6",
   "metadata": {},
   "outputs": [
    {
     "data": {
      "text/plain": [
       "<AxesSubplot:xlabel='RatioRebasedBP', ylabel='RatioRebasedShelld'>"
      ]
     },
     "execution_count": 87,
     "metadata": {},
     "output_type": "execute_result"
    },
    {
     "data": {
      "image/png": "[encoded data removed]",
      "text/plain": [
       "<Figure size 432x288 with 1 Axes>"
      ]
     },
     "metadata": {
      "needs_background": "light"
     },
     "output_type": "display_data"
    }
   ],
   "source": [
    "#Creating a scatter plot for reference purposes only\n",
    "sns.scatterplot(x='RatioRebasedBP',y='RatioRebasedShelld', data=mod_df, hue='Spot Price', size='Spot Price')"
   ]
  },
  {
   "cell_type": "code",
   "execution_count": 165,
   "id": "77bb54e9",
   "metadata": {},
   "outputs": [
    {
     "data": {
      "text/plain": [
       "Text(0.5, 1.0, 'Analaysis: Relationship between Shell and BP Share price')"
      ]
     },
     "execution_count": 165,
     "metadata": {},
     "output_type": "execute_result"
    },
    {
     "data": {
      "image/png": "[encoded data removed]",
      "text/plain": [
       "<Figure size 360x360 with 1 Axes>"
      ]
     },
     "metadata": {
      "needs_background": "light"
     },
     "output_type": "display_data"
    }
   ],
   "source": [
    "#Linear regressing between BP and Shells closing price\n",
    "sns.lmplot(x='Close-Shell',y='Close-BP',data=mod_df)\n",
    "plt.xlabel('Close-Shell')\n",
    "plt.ylabel('Close-BP')\n",
    "plt.title('Analaysis: Relationship between Shell and BP Share price')"
   ]
  },
  {
   "cell_type": "code",
   "execution_count": 167,
   "id": "d82946ba",
   "metadata": {},
   "outputs": [
    {
     "data": {
      "text/plain": [
       "Text(0.5, 1.0, 'Analaysis: Relationship between Shell Share price and the spot price of Oil')"
      ]
     },
     "execution_count": 167,
     "metadata": {},
     "output_type": "execute_result"
    },
    {
     "data": {
      "image/png": "[encoded data removed]",
      "text/plain": [
       "<Figure size 360x360 with 1 Axes>"
      ]
     },
     "metadata": {
      "needs_background": "light"
     },
     "output_type": "display_data"
    }
   ],
   "source": [
    "#Linear regressing between Oil and Shell's closing price\n",
    "sns.lmplot(x='Close-Shell',y='Spot Price',data=mod_df)\n",
    "plt.xlabel('Close-Shell')\n",
    "plt.ylabel('Spot Price')\n",
    "plt.title('Analaysis: Relationship between Shell Share price and the spot price of Oil')"
   ]
  },
  {
   "cell_type": "code",
   "execution_count": 166,
   "id": "84b244f5",
   "metadata": {},
   "outputs": [
    {
     "data": {
      "text/plain": [
       "Text(0.5, 1.0, 'Analaysis: Relationship between BP Share price and the spot price of Oil')"
      ]
     },
     "execution_count": 166,
     "metadata": {},
     "output_type": "execute_result"
    },
    {
     "data": {
      "image/png": "[encoded data removed]",
      "text/plain": [
       "<Figure size 360x360 with 1 Axes>"
      ]
     },
     "metadata": {
      "needs_background": "light"
     },
     "output_type": "display_data"
    }
   ],
   "source": [
    "#Linear regressing between OIl and BP's closing price\n",
    "sns.lmplot(x='Close-BP',y='Spot Price',data=mod_df)\n",
    "plt.xlabel('Close-BP')\n",
    "plt.ylabel('Spot Price')\n",
    "plt.title('Analaysis: Relationship between BP Share price and the spot price of Oil')"
   ]
  },
  {
   "cell_type": "code",
   "execution_count": 174,
   "id": "23e79573",
   "metadata": {},
   "outputs": [
    {
     "name": "stdout",
     "output_type": "stream",
     "text": [
      "BTCUSDT price is 18682.70000000\n"
     ]
    }
   ],
   "source": [
    "# Import libraries\n",
    "import json\n",
    "import requests\n",
    "  \n",
    "# defining key/request url\n",
    "key = \"https://api.binance.com/api/v3/ticker/price?symbol=BTCUSDT\"\n",
    "  \n",
    "# requesting data from url\n",
    "data = requests.get(key)  \n",
    "data = data.json()\n",
    "print(f\"{data['symbol']} price is {data['price']}\")"
   ]
  },
  {
   "cell_type": "code",
   "execution_count": null,
   "id": "48ff1299",
   "metadata": {},
   "outputs": [],
   "source": []
  }
 ],
 "metadata": {
  "kernelspec": {
   "display_name": "Python 3",
   "language": "python",
   "name": "python3"
  },
  "language_info": {
   "codemirror_mode": {
    "name": "ipython",
    "version": 3
   },
   "file_extension": ".py",
   "mimetype": "text/x-python",
   "name": "python",
   "nbconvert_exporter": "python",
   "pygments_lexer": "ipython3",
   "version": "3.8.8"
  }
 },
 "nbformat": 4,
 "nbformat_minor": 5
}
